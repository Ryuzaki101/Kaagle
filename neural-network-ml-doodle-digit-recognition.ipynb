{
 "cells": [
  {
   "cell_type": "code",
   "execution_count": 1,
   "id": "20fd1f46",
   "metadata": {
    "_cell_guid": "b1076dfc-b9ad-4769-8c92-a6c4dae69d19",
    "_uuid": "8f2839f25d086af736a60e9eeb907d3b93b6e0e5",
    "execution": {
     "iopub.execute_input": "2023-08-08T21:52:38.030398Z",
     "iopub.status.busy": "2023-08-08T21:52:38.030001Z",
     "iopub.status.idle": "2023-08-08T21:52:44.329407Z",
     "shell.execute_reply": "2023-08-08T21:52:44.328136Z"
    },
    "papermill": {
     "duration": 6.311055,
     "end_time": "2023-08-08T21:52:44.332469",
     "exception": false,
     "start_time": "2023-08-08T21:52:38.021414",
     "status": "completed"
    },
    "tags": []
   },
   "outputs": [],
   "source": [
    "# This Python 3 environment comes with many helpful analytics libraries installed\n",
    "# It is defined by the kaggle/python Docker image: https://github.com/kaggle/docker-python\n",
    "# For example, here's several helpful packages to load\n",
    "import numpy as np # linear algebra\n",
    "import pandas as pd # data processing, CSV file I/O (e.g. pd.read_csv)\n",
    "from matplotlib import pyplot as plt\n",
    "# Input data files are available in the read-only \"../input/\" directory\n",
    "# For example, running this (by clicking run or pressing Shift+Enter) will list all files under the input directory\n",
    "\n",
    "import os\n",
    "data = pd.read_csv('/kaggle/input/mnist-in-csv/mnist_train.csv')\n",
    "\n",
    "# You can write up to 20GB to the current directory (/kaggle/working/) that gets preserved as output when you create a version using \"Save & Run All\" \n",
    "# You can also write temporary files to /kaggle/temp/, but they won't be saved outside of the current session"
   ]
  },
  {
   "cell_type": "code",
   "execution_count": 2,
   "id": "4c04c9de",
   "metadata": {
    "execution": {
     "iopub.execute_input": "2023-08-08T21:52:44.347535Z",
     "iopub.status.busy": "2023-08-08T21:52:44.347121Z",
     "iopub.status.idle": "2023-08-08T21:52:44.390970Z",
     "shell.execute_reply": "2023-08-08T21:52:44.389721Z"
    },
    "papermill": {
     "duration": 0.054433,
     "end_time": "2023-08-08T21:52:44.393740",
     "exception": false,
     "start_time": "2023-08-08T21:52:44.339307",
     "status": "completed"
    },
    "tags": []
   },
   "outputs": [
    {
     "data": {
      "text/html": [
       "<div>\n",
       "<style scoped>\n",
       "    .dataframe tbody tr th:only-of-type {\n",
       "        vertical-align: middle;\n",
       "    }\n",
       "\n",
       "    .dataframe tbody tr th {\n",
       "        vertical-align: top;\n",
       "    }\n",
       "\n",
       "    .dataframe thead th {\n",
       "        text-align: right;\n",
       "    }\n",
       "</style>\n",
       "<table border=\"1\" class=\"dataframe\">\n",
       "  <thead>\n",
       "    <tr style=\"text-align: right;\">\n",
       "      <th></th>\n",
       "      <th>label</th>\n",
       "      <th>1x1</th>\n",
       "      <th>1x2</th>\n",
       "      <th>1x3</th>\n",
       "      <th>1x4</th>\n",
       "      <th>1x5</th>\n",
       "      <th>1x6</th>\n",
       "      <th>1x7</th>\n",
       "      <th>1x8</th>\n",
       "      <th>1x9</th>\n",
       "      <th>...</th>\n",
       "      <th>28x19</th>\n",
       "      <th>28x20</th>\n",
       "      <th>28x21</th>\n",
       "      <th>28x22</th>\n",
       "      <th>28x23</th>\n",
       "      <th>28x24</th>\n",
       "      <th>28x25</th>\n",
       "      <th>28x26</th>\n",
       "      <th>28x27</th>\n",
       "      <th>28x28</th>\n",
       "    </tr>\n",
       "  </thead>\n",
       "  <tbody>\n",
       "    <tr>\n",
       "      <th>0</th>\n",
       "      <td>5</td>\n",
       "      <td>0</td>\n",
       "      <td>0</td>\n",
       "      <td>0</td>\n",
       "      <td>0</td>\n",
       "      <td>0</td>\n",
       "      <td>0</td>\n",
       "      <td>0</td>\n",
       "      <td>0</td>\n",
       "      <td>0</td>\n",
       "      <td>...</td>\n",
       "      <td>0</td>\n",
       "      <td>0</td>\n",
       "      <td>0</td>\n",
       "      <td>0</td>\n",
       "      <td>0</td>\n",
       "      <td>0</td>\n",
       "      <td>0</td>\n",
       "      <td>0</td>\n",
       "      <td>0</td>\n",
       "      <td>0</td>\n",
       "    </tr>\n",
       "    <tr>\n",
       "      <th>1</th>\n",
       "      <td>0</td>\n",
       "      <td>0</td>\n",
       "      <td>0</td>\n",
       "      <td>0</td>\n",
       "      <td>0</td>\n",
       "      <td>0</td>\n",
       "      <td>0</td>\n",
       "      <td>0</td>\n",
       "      <td>0</td>\n",
       "      <td>0</td>\n",
       "      <td>...</td>\n",
       "      <td>0</td>\n",
       "      <td>0</td>\n",
       "      <td>0</td>\n",
       "      <td>0</td>\n",
       "      <td>0</td>\n",
       "      <td>0</td>\n",
       "      <td>0</td>\n",
       "      <td>0</td>\n",
       "      <td>0</td>\n",
       "      <td>0</td>\n",
       "    </tr>\n",
       "    <tr>\n",
       "      <th>2</th>\n",
       "      <td>4</td>\n",
       "      <td>0</td>\n",
       "      <td>0</td>\n",
       "      <td>0</td>\n",
       "      <td>0</td>\n",
       "      <td>0</td>\n",
       "      <td>0</td>\n",
       "      <td>0</td>\n",
       "      <td>0</td>\n",
       "      <td>0</td>\n",
       "      <td>...</td>\n",
       "      <td>0</td>\n",
       "      <td>0</td>\n",
       "      <td>0</td>\n",
       "      <td>0</td>\n",
       "      <td>0</td>\n",
       "      <td>0</td>\n",
       "      <td>0</td>\n",
       "      <td>0</td>\n",
       "      <td>0</td>\n",
       "      <td>0</td>\n",
       "    </tr>\n",
       "    <tr>\n",
       "      <th>3</th>\n",
       "      <td>1</td>\n",
       "      <td>0</td>\n",
       "      <td>0</td>\n",
       "      <td>0</td>\n",
       "      <td>0</td>\n",
       "      <td>0</td>\n",
       "      <td>0</td>\n",
       "      <td>0</td>\n",
       "      <td>0</td>\n",
       "      <td>0</td>\n",
       "      <td>...</td>\n",
       "      <td>0</td>\n",
       "      <td>0</td>\n",
       "      <td>0</td>\n",
       "      <td>0</td>\n",
       "      <td>0</td>\n",
       "      <td>0</td>\n",
       "      <td>0</td>\n",
       "      <td>0</td>\n",
       "      <td>0</td>\n",
       "      <td>0</td>\n",
       "    </tr>\n",
       "    <tr>\n",
       "      <th>4</th>\n",
       "      <td>9</td>\n",
       "      <td>0</td>\n",
       "      <td>0</td>\n",
       "      <td>0</td>\n",
       "      <td>0</td>\n",
       "      <td>0</td>\n",
       "      <td>0</td>\n",
       "      <td>0</td>\n",
       "      <td>0</td>\n",
       "      <td>0</td>\n",
       "      <td>...</td>\n",
       "      <td>0</td>\n",
       "      <td>0</td>\n",
       "      <td>0</td>\n",
       "      <td>0</td>\n",
       "      <td>0</td>\n",
       "      <td>0</td>\n",
       "      <td>0</td>\n",
       "      <td>0</td>\n",
       "      <td>0</td>\n",
       "      <td>0</td>\n",
       "    </tr>\n",
       "    <tr>\n",
       "      <th>5</th>\n",
       "      <td>2</td>\n",
       "      <td>0</td>\n",
       "      <td>0</td>\n",
       "      <td>0</td>\n",
       "      <td>0</td>\n",
       "      <td>0</td>\n",
       "      <td>0</td>\n",
       "      <td>0</td>\n",
       "      <td>0</td>\n",
       "      <td>0</td>\n",
       "      <td>...</td>\n",
       "      <td>0</td>\n",
       "      <td>0</td>\n",
       "      <td>0</td>\n",
       "      <td>0</td>\n",
       "      <td>0</td>\n",
       "      <td>0</td>\n",
       "      <td>0</td>\n",
       "      <td>0</td>\n",
       "      <td>0</td>\n",
       "      <td>0</td>\n",
       "    </tr>\n",
       "    <tr>\n",
       "      <th>6</th>\n",
       "      <td>1</td>\n",
       "      <td>0</td>\n",
       "      <td>0</td>\n",
       "      <td>0</td>\n",
       "      <td>0</td>\n",
       "      <td>0</td>\n",
       "      <td>0</td>\n",
       "      <td>0</td>\n",
       "      <td>0</td>\n",
       "      <td>0</td>\n",
       "      <td>...</td>\n",
       "      <td>0</td>\n",
       "      <td>0</td>\n",
       "      <td>0</td>\n",
       "      <td>0</td>\n",
       "      <td>0</td>\n",
       "      <td>0</td>\n",
       "      <td>0</td>\n",
       "      <td>0</td>\n",
       "      <td>0</td>\n",
       "      <td>0</td>\n",
       "    </tr>\n",
       "    <tr>\n",
       "      <th>7</th>\n",
       "      <td>3</td>\n",
       "      <td>0</td>\n",
       "      <td>0</td>\n",
       "      <td>0</td>\n",
       "      <td>0</td>\n",
       "      <td>0</td>\n",
       "      <td>0</td>\n",
       "      <td>0</td>\n",
       "      <td>0</td>\n",
       "      <td>0</td>\n",
       "      <td>...</td>\n",
       "      <td>0</td>\n",
       "      <td>0</td>\n",
       "      <td>0</td>\n",
       "      <td>0</td>\n",
       "      <td>0</td>\n",
       "      <td>0</td>\n",
       "      <td>0</td>\n",
       "      <td>0</td>\n",
       "      <td>0</td>\n",
       "      <td>0</td>\n",
       "    </tr>\n",
       "    <tr>\n",
       "      <th>8</th>\n",
       "      <td>1</td>\n",
       "      <td>0</td>\n",
       "      <td>0</td>\n",
       "      <td>0</td>\n",
       "      <td>0</td>\n",
       "      <td>0</td>\n",
       "      <td>0</td>\n",
       "      <td>0</td>\n",
       "      <td>0</td>\n",
       "      <td>0</td>\n",
       "      <td>...</td>\n",
       "      <td>0</td>\n",
       "      <td>0</td>\n",
       "      <td>0</td>\n",
       "      <td>0</td>\n",
       "      <td>0</td>\n",
       "      <td>0</td>\n",
       "      <td>0</td>\n",
       "      <td>0</td>\n",
       "      <td>0</td>\n",
       "      <td>0</td>\n",
       "    </tr>\n",
       "    <tr>\n",
       "      <th>9</th>\n",
       "      <td>4</td>\n",
       "      <td>0</td>\n",
       "      <td>0</td>\n",
       "      <td>0</td>\n",
       "      <td>0</td>\n",
       "      <td>0</td>\n",
       "      <td>0</td>\n",
       "      <td>0</td>\n",
       "      <td>0</td>\n",
       "      <td>0</td>\n",
       "      <td>...</td>\n",
       "      <td>0</td>\n",
       "      <td>0</td>\n",
       "      <td>0</td>\n",
       "      <td>0</td>\n",
       "      <td>0</td>\n",
       "      <td>0</td>\n",
       "      <td>0</td>\n",
       "      <td>0</td>\n",
       "      <td>0</td>\n",
       "      <td>0</td>\n",
       "    </tr>\n",
       "  </tbody>\n",
       "</table>\n",
       "<p>10 rows × 785 columns</p>\n",
       "</div>"
      ],
      "text/plain": [
       "   label  1x1  1x2  1x3  1x4  1x5  1x6  1x7  1x8  1x9  ...  28x19  28x20  \\\n",
       "0      5    0    0    0    0    0    0    0    0    0  ...      0      0   \n",
       "1      0    0    0    0    0    0    0    0    0    0  ...      0      0   \n",
       "2      4    0    0    0    0    0    0    0    0    0  ...      0      0   \n",
       "3      1    0    0    0    0    0    0    0    0    0  ...      0      0   \n",
       "4      9    0    0    0    0    0    0    0    0    0  ...      0      0   \n",
       "5      2    0    0    0    0    0    0    0    0    0  ...      0      0   \n",
       "6      1    0    0    0    0    0    0    0    0    0  ...      0      0   \n",
       "7      3    0    0    0    0    0    0    0    0    0  ...      0      0   \n",
       "8      1    0    0    0    0    0    0    0    0    0  ...      0      0   \n",
       "9      4    0    0    0    0    0    0    0    0    0  ...      0      0   \n",
       "\n",
       "   28x21  28x22  28x23  28x24  28x25  28x26  28x27  28x28  \n",
       "0      0      0      0      0      0      0      0      0  \n",
       "1      0      0      0      0      0      0      0      0  \n",
       "2      0      0      0      0      0      0      0      0  \n",
       "3      0      0      0      0      0      0      0      0  \n",
       "4      0      0      0      0      0      0      0      0  \n",
       "5      0      0      0      0      0      0      0      0  \n",
       "6      0      0      0      0      0      0      0      0  \n",
       "7      0      0      0      0      0      0      0      0  \n",
       "8      0      0      0      0      0      0      0      0  \n",
       "9      0      0      0      0      0      0      0      0  \n",
       "\n",
       "[10 rows x 785 columns]"
      ]
     },
     "execution_count": 2,
     "metadata": {},
     "output_type": "execute_result"
    }
   ],
   "source": [
    "data.head(10)"
   ]
  },
  {
   "cell_type": "code",
   "execution_count": null,
   "id": "dd7f0343",
   "metadata": {
    "papermill": {
     "duration": 0.006354,
     "end_time": "2023-08-08T21:52:44.406845",
     "exception": false,
     "start_time": "2023-08-08T21:52:44.400491",
     "status": "completed"
    },
    "tags": []
   },
   "outputs": [],
   "source": []
  },
  {
   "cell_type": "code",
   "execution_count": 3,
   "id": "622e8214",
   "metadata": {
    "execution": {
     "iopub.execute_input": "2023-08-08T21:52:44.422144Z",
     "iopub.status.busy": "2023-08-08T21:52:44.421751Z",
     "iopub.status.idle": "2023-08-08T21:52:45.433163Z",
     "shell.execute_reply": "2023-08-08T21:52:45.432043Z"
    },
    "papermill": {
     "duration": 1.022787,
     "end_time": "2023-08-08T21:52:45.436234",
     "exception": false,
     "start_time": "2023-08-08T21:52:44.413447",
     "status": "completed"
    },
    "tags": []
   },
   "outputs": [],
   "source": [
    "data = np.array(data)\n",
    "m, n = data.shape\n",
    "np.random.shuffle(data)\n",
    "\n",
    "data_dev = data[0:1000].T\n",
    "Y_dev = data_dev[0]\n",
    "X_dev = data_dev[1:n]\n",
    "X_dev = X_dev / 255.\n",
    "\n",
    "data_train = data[1000:m].T\n",
    "Y_train = data_train[0]\n",
    "X_train = data_train[1:n]\n"
   ]
  },
  {
   "cell_type": "code",
   "execution_count": 4,
   "id": "411a6685",
   "metadata": {
    "execution": {
     "iopub.execute_input": "2023-08-08T21:52:45.452276Z",
     "iopub.status.busy": "2023-08-08T21:52:45.451893Z",
     "iopub.status.idle": "2023-08-08T21:52:45.653917Z",
     "shell.execute_reply": "2023-08-08T21:52:45.652376Z"
    },
    "papermill": {
     "duration": 0.213207,
     "end_time": "2023-08-08T21:52:45.656934",
     "exception": false,
     "start_time": "2023-08-08T21:52:45.443727",
     "status": "completed"
    },
    "tags": []
   },
   "outputs": [],
   "source": [
    "X_train = X_train / 255."
   ]
  },
  {
   "cell_type": "code",
   "execution_count": 5,
   "id": "978fadfe",
   "metadata": {
    "execution": {
     "iopub.execute_input": "2023-08-08T21:52:45.673468Z",
     "iopub.status.busy": "2023-08-08T21:52:45.673066Z",
     "iopub.status.idle": "2023-08-08T21:52:45.689332Z",
     "shell.execute_reply": "2023-08-08T21:52:45.688166Z"
    },
    "papermill": {
     "duration": 0.02773,
     "end_time": "2023-08-08T21:52:45.692070",
     "exception": false,
     "start_time": "2023-08-08T21:52:45.664340",
     "status": "completed"
    },
    "tags": []
   },
   "outputs": [],
   "source": [
    "def init_param():\n",
    "    W1 = np.random.rand(10, 784) - 0.5\n",
    "    b1 = np.random.rand(10, 1) - 0.5\n",
    "    W2 = np.random.rand(10, 10) - 0.5\n",
    "    b2 = np.random.rand(10, 1) - 0.5\n",
    "    return W1, b1, W2, b2\n",
    "\n",
    "def ReLU(Z):\n",
    "    return np.maximum(0,Z)\n",
    "\n",
    "def softmax(Z):\n",
    "    A = np.exp(Z) / sum(np.exp(Z))\n",
    "    return A\n",
    "\n",
    "def forward_prop(W1, b1, W2, b2, X):\n",
    "    Z1 = W1.dot(X) + b1\n",
    "    A1 = ReLU(Z1)\n",
    "    Z2 = W2.dot(A1) + b2\n",
    "    A2 = softmax(Z2)\n",
    "    return Z1, A1, Z2, A2\n",
    "\n",
    "def one_hot(Y):\n",
    "    one_hot_Y = np.zeros((Y.size, Y.max() + 1))\n",
    "    one_hot_Y[np.arange(Y.size), Y] = 1\n",
    "    one_hot_Y = one_hot_Y.T\n",
    "    return one_hot_Y\n",
    "\n",
    "def deriv_ReLU(Z):\n",
    "    return Z > 0\n",
    "\n",
    "def back_prop(Z1, A1, Z2, A2, W2, X, Y):\n",
    "    m = Y.size\n",
    "    one_hot_Y = one_hot(Y)\n",
    "    dZ2 = A2 - one_hot_Y\n",
    "    dW2 = 1 / m * dZ2.dot(A1.T)\n",
    "    db2 = 1 / m * np.sum(dZ2)\n",
    "    dZ1 = W2.T.dot(dZ2) * deriv_ReLU(Z1)\n",
    "    dW1 = 1 / m * dZ1.dot(X.T)\n",
    "    db1 = 1 / m * np.sum(dZ1)\n",
    "    return dW1, db1, dW2, db2\n",
    "    \n",
    "def update_params(W1, b1, W2, b2, dW1, db1, dW2, db2, alpha):\n",
    "        W1 = W1 - alpha * dW1\n",
    "        b1 = b1 - alpha * db1\n",
    "        W2 = W2 - alpha * dW2\n",
    "        b2 = b2 - alpha * db2\n",
    "        return W1, b1, W2, b2\n",
    "       "
   ]
  },
  {
   "cell_type": "code",
   "execution_count": 6,
   "id": "d4b3b968",
   "metadata": {
    "execution": {
     "iopub.execute_input": "2023-08-08T21:52:45.709615Z",
     "iopub.status.busy": "2023-08-08T21:52:45.709172Z",
     "iopub.status.idle": "2023-08-08T21:52:45.720920Z",
     "shell.execute_reply": "2023-08-08T21:52:45.719735Z"
    },
    "papermill": {
     "duration": 0.023314,
     "end_time": "2023-08-08T21:52:45.724042",
     "exception": false,
     "start_time": "2023-08-08T21:52:45.700728",
     "status": "completed"
    },
    "tags": []
   },
   "outputs": [],
   "source": [
    "def get_predictions(A2):\n",
    "    return np.argmax(A2, 0)\n",
    "\n",
    "def get_accuracy(predictions, Y):\n",
    "    print(predictions, Y)\n",
    "    return np.sum(predictions == Y) / Y.size\n",
    "\n",
    "def get_wrong_accuracy(predictions, Y):\n",
    "    print(predictions, Y)\n",
    "    return np.sum(predictions != Y) / Y.size\n",
    "\n",
    "def gradient_decent(X, Y, iterations, alpha):\n",
    "    W1, b1, W2, b2, = init_param()\n",
    "    for i in range(iterations):\n",
    "        Z1, A1, Z2, A2 = forward_prop(W1, b1, W2, b2, X)\n",
    "        dW1, db1, dW2, db2 = back_prop(Z1, A1, Z2, A2, W2, X, Y)\n",
    "        W1, b1, W2, b2 = update_params(W1, b1, W2, b2, dW1, db1, dW2, db2, alpha)\n",
    "        if i % 50 == 0:\n",
    "            print(\"Iteration: \", i)\n",
    "            print(\"Accuracy: \", get_accuracy(get_predictions(A2), Y))\n",
    "            print(\"Wrong-Accuracy: \", get_wrong_accuracy(get_predictions(A2), Y))\n",
    "    return W1, b1, W2, b2"
   ]
  },
  {
   "cell_type": "code",
   "execution_count": 7,
   "id": "593a3c15",
   "metadata": {
    "execution": {
     "iopub.execute_input": "2023-08-08T21:52:45.740589Z",
     "iopub.status.busy": "2023-08-08T21:52:45.740167Z",
     "iopub.status.idle": "2023-08-08T21:54:37.614305Z",
     "shell.execute_reply": "2023-08-08T21:54:37.612650Z"
    },
    "papermill": {
     "duration": 111.888336,
     "end_time": "2023-08-08T21:54:37.619236",
     "exception": false,
     "start_time": "2023-08-08T21:52:45.730900",
     "status": "completed"
    },
    "tags": []
   },
   "outputs": [
    {
     "name": "stdout",
     "output_type": "stream",
     "text": [
      "Iteration:  0\n",
      "[4 0 4 ... 9 4 4] [5 2 3 ... 5 9 5]\n",
      "Accuracy:  0.06579661016949152\n",
      "[4 0 4 ... 9 4 4] [5 2 3 ... 5 9 5]\n",
      "Wrong-Accuracy:  0.9342033898305084\n",
      "Iteration:  50\n",
      "[0 3 3 ... 7 9 9] [5 2 3 ... 5 9 5]\n",
      "Accuracy:  0.5929322033898305\n",
      "[0 3 3 ... 7 9 9] [5 2 3 ... 5 9 5]\n",
      "Wrong-Accuracy:  0.4070677966101695\n",
      "Iteration:  100\n",
      "[0 2 3 ... 9 9 5] [5 2 3 ... 5 9 5]\n",
      "Accuracy:  0.761864406779661\n",
      "[0 2 3 ... 9 9 5] [5 2 3 ... 5 9 5]\n",
      "Wrong-Accuracy:  0.23813559322033898\n",
      "Iteration:  150\n",
      "[5 2 3 ... 9 9 5] [5 2 3 ... 5 9 5]\n",
      "Accuracy:  0.8266610169491525\n",
      "[5 2 3 ... 9 9 5] [5 2 3 ... 5 9 5]\n",
      "Wrong-Accuracy:  0.17333898305084747\n",
      "Iteration:  200\n",
      "[5 2 3 ... 9 9 5] [5 2 3 ... 5 9 5]\n",
      "Accuracy:  0.8584745762711864\n",
      "[5 2 3 ... 9 9 5] [5 2 3 ... 5 9 5]\n",
      "Wrong-Accuracy:  0.14152542372881355\n",
      "Iteration:  250\n",
      "[5 2 5 ... 9 9 5] [5 2 3 ... 5 9 5]\n",
      "Accuracy:  0.8721186440677966\n",
      "[5 2 5 ... 9 9 5] [5 2 3 ... 5 9 5]\n",
      "Wrong-Accuracy:  0.1278813559322034\n",
      "Iteration:  300\n",
      "[5 2 5 ... 9 9 5] [5 2 3 ... 5 9 5]\n",
      "Accuracy:  0.8808474576271187\n",
      "[5 2 5 ... 9 9 5] [5 2 3 ... 5 9 5]\n",
      "Wrong-Accuracy:  0.11915254237288135\n",
      "Iteration:  350\n",
      "[5 2 5 ... 9 9 5] [5 2 3 ... 5 9 5]\n",
      "Accuracy:  0.8876271186440678\n",
      "[5 2 5 ... 9 9 5] [5 2 3 ... 5 9 5]\n",
      "Wrong-Accuracy:  0.11237288135593221\n",
      "Iteration:  400\n",
      "[5 2 5 ... 9 9 5] [5 2 3 ... 5 9 5]\n",
      "Accuracy:  0.892406779661017\n",
      "[5 2 5 ... 9 9 5] [5 2 3 ... 5 9 5]\n",
      "Wrong-Accuracy:  0.10759322033898305\n",
      "Iteration:  450\n",
      "[5 2 5 ... 9 9 5] [5 2 3 ... 5 9 5]\n",
      "Accuracy:  0.8966271186440677\n",
      "[5 2 5 ... 9 9 5] [5 2 3 ... 5 9 5]\n",
      "Wrong-Accuracy:  0.1033728813559322\n"
     ]
    }
   ],
   "source": [
    "W1, b1, W2, b2 = gradient_decent(X_train, Y_train, 500, 0.4)\n",
    "#Todos: Accuracy still needs to reach 99, \n",
    "#add more complexetiy or a new node layer\n",
    "#alpha calculation using A2 sorted for predictions == false "
   ]
  },
  {
   "cell_type": "code",
   "execution_count": null,
   "id": "f7c7389c",
   "metadata": {
    "papermill": {
     "duration": 0.015417,
     "end_time": "2023-08-08T21:54:37.651520",
     "exception": false,
     "start_time": "2023-08-08T21:54:37.636103",
     "status": "completed"
    },
    "tags": []
   },
   "outputs": [],
   "source": []
  },
  {
   "cell_type": "code",
   "execution_count": 8,
   "id": "3cdbaf87",
   "metadata": {
    "execution": {
     "iopub.execute_input": "2023-08-08T21:54:37.687001Z",
     "iopub.status.busy": "2023-08-08T21:54:37.686227Z",
     "iopub.status.idle": "2023-08-08T21:54:37.701030Z",
     "shell.execute_reply": "2023-08-08T21:54:37.699451Z"
    },
    "papermill": {
     "duration": 0.03869,
     "end_time": "2023-08-08T21:54:37.706484",
     "exception": false,
     "start_time": "2023-08-08T21:54:37.667794",
     "status": "completed"
    },
    "tags": []
   },
   "outputs": [],
   "source": [
    "def make_predictions(X, W1, b1, W2, b2):\n",
    "    _,_,_,A2 = forward_prop(W1, b1, W2, b2, X)\n",
    "    predictions = get_predictions(A2)\n",
    "    return predictions\n",
    "\n",
    "def test_predictions(index, W1, b1, W2, b2):\n",
    "    current_img = X_train[:,index,None]\n",
    "    prediction = make_predictions(X_train[:,index,None], W1, b1, W2, b2)\n",
    "    label = Y_train[index]\n",
    "    print('Success !' if  prediction == label else 'wrong !')\n",
    "    print(\"Prediction: \",prediction)\n",
    "    print(\"Label: \", label)\n",
    "    \n",
    "    current_img = current_img.reshape((28,28)) * 255\n",
    "    plt.gray()\n",
    "    plt.imshow(current_img, interpolation = \"nearest\")\n",
    "    plt.show()"
   ]
  },
  {
   "cell_type": "code",
   "execution_count": 9,
   "id": "8f2cf9e3",
   "metadata": {
    "execution": {
     "iopub.execute_input": "2023-08-08T21:54:37.736466Z",
     "iopub.status.busy": "2023-08-08T21:54:37.736098Z",
     "iopub.status.idle": "2023-08-08T21:54:38.014077Z",
     "shell.execute_reply": "2023-08-08T21:54:38.012944Z"
    },
    "papermill": {
     "duration": 0.293757,
     "end_time": "2023-08-08T21:54:38.016923",
     "exception": false,
     "start_time": "2023-08-08T21:54:37.723166",
     "status": "completed"
    },
    "tags": []
   },
   "outputs": [
    {
     "name": "stdout",
     "output_type": "stream",
     "text": [
      "Success !\n",
      "Prediction:  [2]\n",
      "Label:  2\n"
     ]
    },
    {
     "data": {
      "image/png": "[encoded data removed]",
      "text/plain": [
       "<Figure size 640x480 with 1 Axes>"
      ]
     },
     "metadata": {},
     "output_type": "display_data"
    }
   ],
   "source": [
    "test_predictions(11, W1, b1, W2, b2)"
   ]
  },
  {
   "cell_type": "code",
   "execution_count": 10,
   "id": "c69148f7",
   "metadata": {
    "execution": {
     "iopub.execute_input": "2023-08-08T21:54:38.034583Z",
     "iopub.status.busy": "2023-08-08T21:54:38.034192Z",
     "iopub.status.idle": "2023-08-08T21:54:48.073716Z",
     "shell.execute_reply": "2023-08-08T21:54:48.072483Z"
    },
    "papermill": {
     "duration": 10.051598,
     "end_time": "2023-08-08T21:54:48.076514",
     "exception": false,
     "start_time": "2023-08-08T21:54:38.024916",
     "status": "completed"
    },
    "tags": []
   },
   "outputs": [
    {
     "name": "stderr",
     "output_type": "stream",
     "text": [
      "/opt/conda/lib/python3.10/site-packages/tensorflow_io/python/ops/__init__.py:98: UserWarning: unable to load libtensorflow_io_plugins.so: unable to open file: libtensorflow_io_plugins.so, from paths: ['/opt/conda/lib/python3.10/site-packages/tensorflow_io/python/ops/libtensorflow_io_plugins.so']\n",
      "caused by: ['/opt/conda/lib/python3.10/site-packages/tensorflow_io/python/ops/libtensorflow_io_plugins.so: undefined symbol: _ZN3tsl6StatusC1EN10tensorflow5error4CodeESt17basic_string_viewIcSt11char_traitsIcEENS_14SourceLocationE']\n",
      "  warnings.warn(f\"unable to load libtensorflow_io_plugins.so: {e}\")\n",
      "/opt/conda/lib/python3.10/site-packages/tensorflow_io/python/ops/__init__.py:104: UserWarning: file system plugins are not loaded: unable to open file: libtensorflow_io.so, from paths: ['/opt/conda/lib/python3.10/site-packages/tensorflow_io/python/ops/libtensorflow_io.so']\n",
      "caused by: ['/opt/conda/lib/python3.10/site-packages/tensorflow_io/python/ops/libtensorflow_io.so: undefined symbol: _ZTVN10tensorflow13GcsFileSystemE']\n",
      "  warnings.warn(f\"file system plugins are not loaded: {e}\")\n"
     ]
    }
   ],
   "source": [
    "#Use keras to read and form nodes with layers and import model  \n",
    "from keras.datasets import mnist\n",
    "(train_images, train_labels),(test_images, test_labels)= mnist.load_data(\"/kaggle/input/mnistnpz/mnist.npz\")"
   ]
  },
  {
   "cell_type": "code",
   "execution_count": 11,
   "id": "566fe60f",
   "metadata": {
    "execution": {
     "iopub.execute_input": "2023-08-08T21:54:48.095445Z",
     "iopub.status.busy": "2023-08-08T21:54:48.094647Z",
     "iopub.status.idle": "2023-08-08T21:54:48.200711Z",
     "shell.execute_reply": "2023-08-08T21:54:48.199494Z"
    },
    "papermill": {
     "duration": 0.118623,
     "end_time": "2023-08-08T21:54:48.203580",
     "exception": false,
     "start_time": "2023-08-08T21:54:48.084957",
     "status": "completed"
    },
    "tags": []
   },
   "outputs": [],
   "source": [
    "train_images =  train_images.reshape((60000,28,28,1))\n",
    "train_images = train_images.astype(\"float32\")/255\n",
    "\n",
    "test_images = test_images.reshape((10000,28,28,1))\n",
    "test_images = test_images.astype(\"float32\")/255\n",
    "\n",
    "from keras.utils import to_categorical\n",
    "train_labels = to_categorical(train_labels)\n",
    "test_labels = to_categorical(test_labels)"
   ]
  },
  {
   "cell_type": "code",
   "execution_count": 12,
   "id": "0ef9f9fc",
   "metadata": {
    "execution": {
     "iopub.execute_input": "2023-08-08T21:54:48.222197Z",
     "iopub.status.busy": "2023-08-08T21:54:48.221818Z",
     "iopub.status.idle": "2023-08-08T21:54:48.546611Z",
     "shell.execute_reply": "2023-08-08T21:54:48.545040Z"
    },
    "papermill": {
     "duration": 0.348554,
     "end_time": "2023-08-08T21:54:48.560422",
     "exception": false,
     "start_time": "2023-08-08T21:54:48.211868",
     "status": "completed"
    },
    "tags": []
   },
   "outputs": [
    {
     "name": "stdout",
     "output_type": "stream",
     "text": [
      "Model: \"sequential\"\n",
      "_________________________________________________________________\n",
      " Layer (type)                Output Shape              Param #   \n",
      "=================================================================\n",
      " conv2d (Conv2D)             (None, 26, 26, 32)        320       \n",
      "                                                                 \n",
      " max_pooling2d (MaxPooling2D  (None, 13, 13, 32)       0         \n",
      " )                                                               \n",
      "                                                                 \n",
      " conv2d_1 (Conv2D)           (None, 11, 11, 64)        18496     \n",
      "                                                                 \n",
      " max_pooling2d_1 (MaxPooling  (None, 5, 5, 64)         0         \n",
      " 2D)                                                             \n",
      "                                                                 \n",
      " conv2d_2 (Conv2D)           (None, 3, 3, 64)          36928     \n",
      "                                                                 \n",
      " flatten (Flatten)           (None, 576)               0         \n",
      "                                                                 \n",
      " dense (Dense)               (None, 64)                36928     \n",
      "                                                                 \n",
      " dense_1 (Dense)             (None, 10)                650       \n",
      "                                                                 \n",
      "=================================================================\n",
      "Total params: 93,322\n",
      "Trainable params: 93,322\n",
      "Non-trainable params: 0\n",
      "_________________________________________________________________\n"
     ]
    }
   ],
   "source": [
    "from keras import layers\n",
    "from keras import models\n",
    "\n",
    "model = models.Sequential()\n",
    "model.add(layers.Conv2D(32,(3,3),activation=\"relu\", input_shape = (28,28,1)))\n",
    "model.add(layers.MaxPooling2D((2,2)))\n",
    "model.add(layers.Conv2D(64,(3,3),activation=\"relu\"))\n",
    "model.add(layers.MaxPooling2D((2,2)))\n",
    "model.add(layers.Conv2D(64,(3,3),activation=\"relu\"))\n",
    "#flatten nodes tree\n",
    "model.add(layers.Flatten())\n",
    "model.add(layers.Dense(64,activation='relu'))\n",
    "model.add(layers.Dense(10,activation='softmax'))\n",
    "model.summary()"
   ]
  },
  {
   "cell_type": "code",
   "execution_count": 13,
   "id": "89fb5208",
   "metadata": {
    "execution": {
     "iopub.execute_input": "2023-08-08T21:54:48.583456Z",
     "iopub.status.busy": "2023-08-08T21:54:48.583048Z",
     "iopub.status.idle": "2023-08-08T21:54:48.604579Z",
     "shell.execute_reply": "2023-08-08T21:54:48.603313Z"
    },
    "papermill": {
     "duration": 0.036929,
     "end_time": "2023-08-08T21:54:48.607594",
     "exception": false,
     "start_time": "2023-08-08T21:54:48.570665",
     "status": "completed"
    },
    "tags": []
   },
   "outputs": [],
   "source": [
    "model.compile(optimizer=\"rmsprop\",\n",
    "             loss = \"categorical_crossentropy\",\n",
    "             metrics = [\"accuracy\"])"
   ]
  },
  {
   "cell_type": "code",
   "execution_count": 14,
   "id": "0184e9e7",
   "metadata": {
    "execution": {
     "iopub.execute_input": "2023-08-08T21:54:48.630676Z",
     "iopub.status.busy": "2023-08-08T21:54:48.630281Z",
     "iopub.status.idle": "2023-08-08T21:59:02.177062Z",
     "shell.execute_reply": "2023-08-08T21:59:02.175708Z"
    },
    "papermill": {
     "duration": 253.562676,
     "end_time": "2023-08-08T21:59:02.180798",
     "exception": false,
     "start_time": "2023-08-08T21:54:48.618122",
     "status": "completed"
    },
    "tags": []
   },
   "outputs": [
    {
     "name": "stdout",
     "output_type": "stream",
     "text": [
      "Epoch 1/8\n",
      "938/938 [==============================] - 33s 33ms/step - loss: 0.1790 - accuracy: 0.9440\n",
      "Epoch 2/8\n",
      "938/938 [==============================] - 31s 33ms/step - loss: 0.0472 - accuracy: 0.9859\n",
      "Epoch 3/8\n",
      "938/938 [==============================] - 32s 34ms/step - loss: 0.0328 - accuracy: 0.9897\n",
      "Epoch 4/8\n",
      "938/938 [==============================] - 31s 33ms/step - loss: 0.0250 - accuracy: 0.9922\n",
      "Epoch 5/8\n",
      "938/938 [==============================] - 32s 34ms/step - loss: 0.0189 - accuracy: 0.9943\n",
      "Epoch 6/8\n",
      "938/938 [==============================] - 32s 34ms/step - loss: 0.0151 - accuracy: 0.9956\n",
      "Epoch 7/8\n",
      "938/938 [==============================] - 32s 34ms/step - loss: 0.0120 - accuracy: 0.9964\n",
      "Epoch 8/8\n",
      "938/938 [==============================] - 31s 33ms/step - loss: 0.0094 - accuracy: 0.9969\n"
     ]
    },
    {
     "data": {
      "text/plain": [
       "<keras.callbacks.History at 0x7a392077e2c0>"
      ]
     },
     "execution_count": 14,
     "metadata": {},
     "output_type": "execute_result"
    }
   ],
   "source": [
    "model.fit(train_images, train_labels, epochs=8, batch_size=64)"
   ]
  },
  {
   "cell_type": "code",
   "execution_count": 15,
   "id": "0c375255",
   "metadata": {
    "execution": {
     "iopub.execute_input": "2023-08-08T21:59:02.966442Z",
     "iopub.status.busy": "2023-08-08T21:59:02.965559Z",
     "iopub.status.idle": "2023-08-08T21:59:16.162721Z",
     "shell.execute_reply": "2023-08-08T21:59:16.161372Z"
    },
    "papermill": {
     "duration": 13.55908,
     "end_time": "2023-08-08T21:59:16.165545",
     "exception": false,
     "start_time": "2023-08-08T21:59:02.606465",
     "status": "completed"
    },
    "tags": []
   },
   "outputs": [
    {
     "name": "stdout",
     "output_type": "stream",
     "text": [
      "1875/1875 [==============================] - 13s 7ms/step - loss: 0.0052 - accuracy: 0.9982\n"
     ]
    },
    {
     "data": {
      "text/plain": [
       "0.9982166886329651"
      ]
     },
     "execution_count": 15,
     "metadata": {},
     "output_type": "execute_result"
    }
   ],
   "source": [
    "model.evaluate(train_images, train_labels)[1]"
   ]
  }
 ],
 "metadata": {
  "kernelspec": {
   "display_name": "Python 3",
   "language": "python",
   "name": "python3"
  },
  "language_info": {
   "codemirror_mode": {
    "name": "ipython",
    "version": 3
   },
   "file_extension": ".py",
   "mimetype": "text/x-python",
   "name": "python",
   "nbconvert_exporter": "python",
   "pygments_lexer": "ipython3",
   "version": "3.10.10"
  },
  "papermill": {
   "default_parameters": {},
   "duration": 416.700411,
   "end_time": "2023-08-08T21:59:19.400871",
   "environment_variables": {},
   "exception": null,
   "input_path": "__notebook__.ipynb",
   "output_path": "__notebook__.ipynb",
   "parameters": {},
   "start_time": "2023-08-08T21:52:22.700460",
   "version": "2.4.0"
  }
 },
 "nbformat": 4,
 "nbformat_minor": 5
}

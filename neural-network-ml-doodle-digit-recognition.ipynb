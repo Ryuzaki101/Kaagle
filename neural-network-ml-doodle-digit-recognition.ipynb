{
 "cells": [
  {
   "cell_type": "code",
   "execution_count": 1,
   "id": "0d6991fd",
   "metadata": {
    "_cell_guid": "b1076dfc-b9ad-4769-8c92-a6c4dae69d19",
    "_uuid": "8f2839f25d086af736a60e9eeb907d3b93b6e0e5",
    "execution": {
     "iopub.execute_input": "2023-08-08T21:49:50.610794Z",
     "iopub.status.busy": "2023-08-08T21:49:50.610422Z",
     "iopub.status.idle": "2023-08-08T21:49:55.383369Z",
     "shell.execute_reply": "2023-08-08T21:49:55.382234Z"
    },
    "papermill": {
     "duration": 4.782284,
     "end_time": "2023-08-08T21:49:55.386072",
     "exception": false,
     "start_time": "2023-08-08T21:49:50.603788",
     "status": "completed"
    },
    "tags": []
   },
   "outputs": [],
   "source": [
    "# This Python 3 environment comes with many helpful analytics libraries installed\n",
    "# It is defined by the kaggle/python Docker image: https://github.com/kaggle/docker-python\n",
    "# For example, here's several helpful packages to load\n",
    "import numpy as np # linear algebra\n",
    "import pandas as pd # data processing, CSV file I/O (e.g. pd.read_csv)\n",
    "from matplotlib import pyplot as plt\n",
    "# Input data files are available in the read-only \"../input/\" directory\n",
    "# For example, running this (by clicking run or pressing Shift+Enter) will list all files under the input directory\n",
    "\n",
    "import os\n",
    "data = pd.read_csv('/kaggle/input/mnist-in-csv/mnist_train.csv')\n",
    "\n",
    "# You can write up to 20GB to the current directory (/kaggle/working/) that gets preserved as output when you create a version using \"Save & Run All\" \n",
    "# You can also write temporary files to /kaggle/temp/, but they won't be saved outside of the current session"
   ]
  },
  {
   "cell_type": "code",
   "execution_count": 2,
   "id": "aa862903",
   "metadata": {
    "execution": {
     "iopub.execute_input": "2023-08-08T21:49:55.397072Z",
     "iopub.status.busy": "2023-08-08T21:49:55.396377Z",
     "iopub.status.idle": "2023-08-08T21:49:55.435265Z",
     "shell.execute_reply": "2023-08-08T21:49:55.434237Z"
    },
    "papermill": {
     "duration": 0.046586,
     "end_time": "2023-08-08T21:49:55.437389",
     "exception": false,
     "start_time": "2023-08-08T21:49:55.390803",
     "status": "completed"
    },
    "tags": []
   },
   "outputs": [
    {
     "data": {
      "text/html": [
       "<div>\n",
       "<style scoped>\n",
       "    .dataframe tbody tr th:only-of-type {\n",
       "        vertical-align: middle;\n",
       "    }\n",
       "\n",
       "    .dataframe tbody tr th {\n",
       "        vertical-align: top;\n",
       "    }\n",
       "\n",
       "    .dataframe thead th {\n",
       "        text-align: right;\n",
       "    }\n",
       "</style>\n",
       "<table border=\"1\" class=\"dataframe\">\n",
       "  <thead>\n",
       "    <tr style=\"text-align: right;\">\n",
       "      <th></th>\n",
       "      <th>label</th>\n",
       "      <th>1x1</th>\n",
       "      <th>1x2</th>\n",
       "      <th>1x3</th>\n",
       "      <th>1x4</th>\n",
       "      <th>1x5</th>\n",
       "      <th>1x6</th>\n",
       "      <th>1x7</th>\n",
       "      <th>1x8</th>\n",
       "      <th>1x9</th>\n",
       "      <th>...</th>\n",
       "      <th>28x19</th>\n",
       "      <th>28x20</th>\n",
       "      <th>28x21</th>\n",
       "      <th>28x22</th>\n",
       "      <th>28x23</th>\n",
       "      <th>28x24</th>\n",
       "      <th>28x25</th>\n",
       "      <th>28x26</th>\n",
       "      <th>28x27</th>\n",
       "      <th>28x28</th>\n",
       "    </tr>\n",
       "  </thead>\n",
       "  <tbody>\n",
       "    <tr>\n",
       "      <th>0</th>\n",
       "      <td>5</td>\n",
       "      <td>0</td>\n",
       "      <td>0</td>\n",
       "      <td>0</td>\n",
       "      <td>0</td>\n",
       "      <td>0</td>\n",
       "      <td>0</td>\n",
       "      <td>0</td>\n",
       "      <td>0</td>\n",
       "      <td>0</td>\n",
       "      <td>...</td>\n",
       "      <td>0</td>\n",
       "      <td>0</td>\n",
       "      <td>0</td>\n",
       "      <td>0</td>\n",
       "      <td>0</td>\n",
       "      <td>0</td>\n",
       "      <td>0</td>\n",
       "      <td>0</td>\n",
       "      <td>0</td>\n",
       "      <td>0</td>\n",
       "    </tr>\n",
       "    <tr>\n",
       "      <th>1</th>\n",
       "      <td>0</td>\n",
       "      <td>0</td>\n",
       "      <td>0</td>\n",
       "      <td>0</td>\n",
       "      <td>0</td>\n",
       "      <td>0</td>\n",
       "      <td>0</td>\n",
       "      <td>0</td>\n",
       "      <td>0</td>\n",
       "      <td>0</td>\n",
       "      <td>...</td>\n",
       "      <td>0</td>\n",
       "      <td>0</td>\n",
       "      <td>0</td>\n",
       "      <td>0</td>\n",
       "      <td>0</td>\n",
       "      <td>0</td>\n",
       "      <td>0</td>\n",
       "      <td>0</td>\n",
       "      <td>0</td>\n",
       "      <td>0</td>\n",
       "    </tr>\n",
       "    <tr>\n",
       "      <th>2</th>\n",
       "      <td>4</td>\n",
       "      <td>0</td>\n",
       "      <td>0</td>\n",
       "      <td>0</td>\n",
       "      <td>0</td>\n",
       "      <td>0</td>\n",
       "      <td>0</td>\n",
       "      <td>0</td>\n",
       "      <td>0</td>\n",
       "      <td>0</td>\n",
       "      <td>...</td>\n",
       "      <td>0</td>\n",
       "      <td>0</td>\n",
       "      <td>0</td>\n",
       "      <td>0</td>\n",
       "      <td>0</td>\n",
       "      <td>0</td>\n",
       "      <td>0</td>\n",
       "      <td>0</td>\n",
       "      <td>0</td>\n",
       "      <td>0</td>\n",
       "    </tr>\n",
       "    <tr>\n",
       "      <th>3</th>\n",
       "      <td>1</td>\n",
       "      <td>0</td>\n",
       "      <td>0</td>\n",
       "      <td>0</td>\n",
       "      <td>0</td>\n",
       "      <td>0</td>\n",
       "      <td>0</td>\n",
       "      <td>0</td>\n",
       "      <td>0</td>\n",
       "      <td>0</td>\n",
       "      <td>...</td>\n",
       "      <td>0</td>\n",
       "      <td>0</td>\n",
       "      <td>0</td>\n",
       "      <td>0</td>\n",
       "      <td>0</td>\n",
       "      <td>0</td>\n",
       "      <td>0</td>\n",
       "      <td>0</td>\n",
       "      <td>0</td>\n",
       "      <td>0</td>\n",
       "    </tr>\n",
       "    <tr>\n",
       "      <th>4</th>\n",
       "      <td>9</td>\n",
       "      <td>0</td>\n",
       "      <td>0</td>\n",
       "      <td>0</td>\n",
       "      <td>0</td>\n",
       "      <td>0</td>\n",
       "      <td>0</td>\n",
       "      <td>0</td>\n",
       "      <td>0</td>\n",
       "      <td>0</td>\n",
       "      <td>...</td>\n",
       "      <td>0</td>\n",
       "      <td>0</td>\n",
       "      <td>0</td>\n",
       "      <td>0</td>\n",
       "      <td>0</td>\n",
       "      <td>0</td>\n",
       "      <td>0</td>\n",
       "      <td>0</td>\n",
       "      <td>0</td>\n",
       "      <td>0</td>\n",
       "    </tr>\n",
       "    <tr>\n",
       "      <th>5</th>\n",
       "      <td>2</td>\n",
       "      <td>0</td>\n",
       "      <td>0</td>\n",
       "      <td>0</td>\n",
       "      <td>0</td>\n",
       "      <td>0</td>\n",
       "      <td>0</td>\n",
       "      <td>0</td>\n",
       "      <td>0</td>\n",
       "      <td>0</td>\n",
       "      <td>...</td>\n",
       "      <td>0</td>\n",
       "      <td>0</td>\n",
       "      <td>0</td>\n",
       "      <td>0</td>\n",
       "      <td>0</td>\n",
       "      <td>0</td>\n",
       "      <td>0</td>\n",
       "      <td>0</td>\n",
       "      <td>0</td>\n",
       "      <td>0</td>\n",
       "    </tr>\n",
       "    <tr>\n",
       "      <th>6</th>\n",
       "      <td>1</td>\n",
       "      <td>0</td>\n",
       "      <td>0</td>\n",
       "      <td>0</td>\n",
       "      <td>0</td>\n",
       "      <td>0</td>\n",
       "      <td>0</td>\n",
       "      <td>0</td>\n",
       "      <td>0</td>\n",
       "      <td>0</td>\n",
       "      <td>...</td>\n",
       "      <td>0</td>\n",
       "      <td>0</td>\n",
       "      <td>0</td>\n",
       "      <td>0</td>\n",
       "      <td>0</td>\n",
       "      <td>0</td>\n",
       "      <td>0</td>\n",
       "      <td>0</td>\n",
       "      <td>0</td>\n",
       "      <td>0</td>\n",
       "    </tr>\n",
       "    <tr>\n",
       "      <th>7</th>\n",
       "      <td>3</td>\n",
       "      <td>0</td>\n",
       "      <td>0</td>\n",
       "      <td>0</td>\n",
       "      <td>0</td>\n",
       "      <td>0</td>\n",
       "      <td>0</td>\n",
       "      <td>0</td>\n",
       "      <td>0</td>\n",
       "      <td>0</td>\n",
       "      <td>...</td>\n",
       "      <td>0</td>\n",
       "      <td>0</td>\n",
       "      <td>0</td>\n",
       "      <td>0</td>\n",
       "      <td>0</td>\n",
       "      <td>0</td>\n",
       "      <td>0</td>\n",
       "      <td>0</td>\n",
       "      <td>0</td>\n",
       "      <td>0</td>\n",
       "    </tr>\n",
       "    <tr>\n",
       "      <th>8</th>\n",
       "      <td>1</td>\n",
       "      <td>0</td>\n",
       "      <td>0</td>\n",
       "      <td>0</td>\n",
       "      <td>0</td>\n",
       "      <td>0</td>\n",
       "      <td>0</td>\n",
       "      <td>0</td>\n",
       "      <td>0</td>\n",
       "      <td>0</td>\n",
       "      <td>...</td>\n",
       "      <td>0</td>\n",
       "      <td>0</td>\n",
       "      <td>0</td>\n",
       "      <td>0</td>\n",
       "      <td>0</td>\n",
       "      <td>0</td>\n",
       "      <td>0</td>\n",
       "      <td>0</td>\n",
       "      <td>0</td>\n",
       "      <td>0</td>\n",
       "    </tr>\n",
       "    <tr>\n",
       "      <th>9</th>\n",
       "      <td>4</td>\n",
       "      <td>0</td>\n",
       "      <td>0</td>\n",
       "      <td>0</td>\n",
       "      <td>0</td>\n",
       "      <td>0</td>\n",
       "      <td>0</td>\n",
       "      <td>0</td>\n",
       "      <td>0</td>\n",
       "      <td>0</td>\n",
       "      <td>...</td>\n",
       "      <td>0</td>\n",
       "      <td>0</td>\n",
       "      <td>0</td>\n",
       "      <td>0</td>\n",
       "      <td>0</td>\n",
       "      <td>0</td>\n",
       "      <td>0</td>\n",
       "      <td>0</td>\n",
       "      <td>0</td>\n",
       "      <td>0</td>\n",
       "    </tr>\n",
       "  </tbody>\n",
       "</table>\n",
       "<p>10 rows × 785 columns</p>\n",
       "</div>"
      ],
      "text/plain": [
       "   label  1x1  1x2  1x3  1x4  1x5  1x6  1x7  1x8  1x9  ...  28x19  28x20  \\\n",
       "0      5    0    0    0    0    0    0    0    0    0  ...      0      0   \n",
       "1      0    0    0    0    0    0    0    0    0    0  ...      0      0   \n",
       "2      4    0    0    0    0    0    0    0    0    0  ...      0      0   \n",
       "3      1    0    0    0    0    0    0    0    0    0  ...      0      0   \n",
       "4      9    0    0    0    0    0    0    0    0    0  ...      0      0   \n",
       "5      2    0    0    0    0    0    0    0    0    0  ...      0      0   \n",
       "6      1    0    0    0    0    0    0    0    0    0  ...      0      0   \n",
       "7      3    0    0    0    0    0    0    0    0    0  ...      0      0   \n",
       "8      1    0    0    0    0    0    0    0    0    0  ...      0      0   \n",
       "9      4    0    0    0    0    0    0    0    0    0  ...      0      0   \n",
       "\n",
       "   28x21  28x22  28x23  28x24  28x25  28x26  28x27  28x28  \n",
       "0      0      0      0      0      0      0      0      0  \n",
       "1      0      0      0      0      0      0      0      0  \n",
       "2      0      0      0      0      0      0      0      0  \n",
       "3      0      0      0      0      0      0      0      0  \n",
       "4      0      0      0      0      0      0      0      0  \n",
       "5      0      0      0      0      0      0      0      0  \n",
       "6      0      0      0      0      0      0      0      0  \n",
       "7      0      0      0      0      0      0      0      0  \n",
       "8      0      0      0      0      0      0      0      0  \n",
       "9      0      0      0      0      0      0      0      0  \n",
       "\n",
       "[10 rows x 785 columns]"
      ]
     },
     "execution_count": 2,
     "metadata": {},
     "output_type": "execute_result"
    }
   ],
   "source": [
    "data.head(10)"
   ]
  },
  {
   "cell_type": "code",
   "execution_count": null,
   "id": "ebab029b",
   "metadata": {
    "papermill": {
     "duration": 0.004537,
     "end_time": "2023-08-08T21:49:55.447319",
     "exception": false,
     "start_time": "2023-08-08T21:49:55.442782",
     "status": "completed"
    },
    "tags": []
   },
   "outputs": [],
   "source": []
  },
  {
   "cell_type": "code",
   "execution_count": 3,
   "id": "3a9615ad",
   "metadata": {
    "execution": {
     "iopub.execute_input": "2023-08-08T21:49:55.458507Z",
     "iopub.status.busy": "2023-08-08T21:49:55.458143Z",
     "iopub.status.idle": "2023-08-08T21:49:56.432709Z",
     "shell.execute_reply": "2023-08-08T21:49:56.431732Z"
    },
    "papermill": {
     "duration": 0.983504,
     "end_time": "2023-08-08T21:49:56.435646",
     "exception": false,
     "start_time": "2023-08-08T21:49:55.452142",
     "status": "completed"
    },
    "tags": []
   },
   "outputs": [],
   "source": [
    "data = np.array(data)\n",
    "m, n = data.shape\n",
    "np.random.shuffle(data)\n",
    "\n",
    "data_dev = data[0:1000].T\n",
    "Y_dev = data_dev[0]\n",
    "X_dev = data_dev[1:n]\n",
    "X_dev = X_dev / 255.\n",
    "\n",
    "data_train = data[1000:m].T\n",
    "Y_train = data_train[0]\n",
    "X_train = data_train[1:n]\n"
   ]
  },
  {
   "cell_type": "code",
   "execution_count": 4,
   "id": "160857df",
   "metadata": {
    "execution": {
     "iopub.execute_input": "2023-08-08T21:49:56.447880Z",
     "iopub.status.busy": "2023-08-08T21:49:56.447441Z",
     "iopub.status.idle": "2023-08-08T21:49:56.674782Z",
     "shell.execute_reply": "2023-08-08T21:49:56.673708Z"
    },
    "papermill": {
     "duration": 0.237064,
     "end_time": "2023-08-08T21:49:56.677989",
     "exception": false,
     "start_time": "2023-08-08T21:49:56.440925",
     "status": "completed"
    },
    "tags": []
   },
   "outputs": [],
   "source": [
    "X_train = X_train / 255."
   ]
  },
  {
   "cell_type": "code",
   "execution_count": 5,
   "id": "4d6ff03b",
   "metadata": {
    "execution": {
     "iopub.execute_input": "2023-08-08T21:49:56.694997Z",
     "iopub.status.busy": "2023-08-08T21:49:56.694440Z",
     "iopub.status.idle": "2023-08-08T21:49:56.707884Z",
     "shell.execute_reply": "2023-08-08T21:49:56.706779Z"
    },
    "papermill": {
     "duration": 0.026157,
     "end_time": "2023-08-08T21:49:56.711646",
     "exception": false,
     "start_time": "2023-08-08T21:49:56.685489",
     "status": "completed"
    },
    "tags": []
   },
   "outputs": [],
   "source": [
    "def init_param():\n",
    "    W1 = np.random.rand(10, 784) - 0.5\n",
    "    b1 = np.random.rand(10, 1) - 0.5\n",
    "    W2 = np.random.rand(10, 10) - 0.5\n",
    "    b2 = np.random.rand(10, 1) - 0.5\n",
    "    return W1, b1, W2, b2\n",
    "\n",
    "def ReLU(Z):\n",
    "    return np.maximum(0,Z)\n",
    "\n",
    "def softmax(Z):\n",
    "    A = np.exp(Z) / sum(np.exp(Z))\n",
    "    return A\n",
    "\n",
    "def forward_prop(W1, b1, W2, b2, X):\n",
    "    Z1 = W1.dot(X) + b1\n",
    "    A1 = ReLU(Z1)\n",
    "    Z2 = W2.dot(A1) + b2\n",
    "    A2 = softmax(Z2)\n",
    "    return Z1, A1, Z2, A2\n",
    "\n",
    "def one_hot(Y):\n",
    "    one_hot_Y = np.zeros((Y.size, Y.max() + 1))\n",
    "    one_hot_Y[np.arange(Y.size), Y] = 1\n",
    "    one_hot_Y = one_hot_Y.T\n",
    "    return one_hot_Y\n",
    "\n",
    "def deriv_ReLU(Z):\n",
    "    return Z > 0\n",
    "\n",
    "def back_prop(Z1, A1, Z2, A2, W2, X, Y):\n",
    "    m = Y.size\n",
    "    one_hot_Y = one_hot(Y)\n",
    "    dZ2 = A2 - one_hot_Y\n",
    "    dW2 = 1 / m * dZ2.dot(A1.T)\n",
    "    db2 = 1 / m * np.sum(dZ2)\n",
    "    dZ1 = W2.T.dot(dZ2) * deriv_ReLU(Z1)\n",
    "    dW1 = 1 / m * dZ1.dot(X.T)\n",
    "    db1 = 1 / m * np.sum(dZ1)\n",
    "    return dW1, db1, dW2, db2\n",
    "    \n",
    "def update_params(W1, b1, W2, b2, dW1, db1, dW2, db2, alpha):\n",
    "        W1 = W1 - alpha * dW1\n",
    "        b1 = b1 - alpha * db1\n",
    "        W2 = W2 - alpha * dW2\n",
    "        b2 = b2 - alpha * db2\n",
    "        return W1, b1, W2, b2\n",
    "       "
   ]
  },
  {
   "cell_type": "code",
   "execution_count": 6,
   "id": "4830594c",
   "metadata": {
    "execution": {
     "iopub.execute_input": "2023-08-08T21:49:56.730305Z",
     "iopub.status.busy": "2023-08-08T21:49:56.729255Z",
     "iopub.status.idle": "2023-08-08T21:49:56.738215Z",
     "shell.execute_reply": "2023-08-08T21:49:56.737020Z"
    },
    "papermill": {
     "duration": 0.020158,
     "end_time": "2023-08-08T21:49:56.740910",
     "exception": false,
     "start_time": "2023-08-08T21:49:56.720752",
     "status": "completed"
    },
    "tags": []
   },
   "outputs": [],
   "source": [
    "def get_predictions(A2):\n",
    "    return np.argmax(A2, 0)\n",
    "\n",
    "def get_accuracy(predictions, Y):\n",
    "    print(predictions, Y)\n",
    "    return np.sum(predictions == Y) / Y.size\n",
    "\n",
    "def get_wrong_accuracy(predictions, Y):\n",
    "    print(predictions, Y)\n",
    "    return np.sum(predictions != Y) / Y.size\n",
    "\n",
    "def gradient_decent(X, Y, iterations, alpha):\n",
    "    W1, b1, W2, b2, = init_param()\n",
    "    for i in range(iterations):\n",
    "        Z1, A1, Z2, A2 = forward_prop(W1, b1, W2, b2, X)\n",
    "        dW1, db1, dW2, db2 = back_prop(Z1, A1, Z2, A2, W2, X, Y)\n",
    "        W1, b1, W2, b2 = update_params(W1, b1, W2, b2, dW1, db1, dW2, db2, alpha)\n",
    "        if i % 50 == 0:\n",
    "            print(\"Iteration: \", i)\n",
    "            print(\"Accuracy: \", get_accuracy(get_predictions(A2), Y))\n",
    "            print(\"Wrong-Accuracy: \", get_wrong_accuracy(get_predictions(A2), Y))\n",
    "    return W1, b1, W2, b2"
   ]
  },
  {
   "cell_type": "code",
   "execution_count": 7,
   "id": "b7e49bb5",
   "metadata": {
    "execution": {
     "iopub.execute_input": "2023-08-08T21:49:56.755461Z",
     "iopub.status.busy": "2023-08-08T21:49:56.755119Z",
     "iopub.status.idle": "2023-08-08T21:51:30.615427Z",
     "shell.execute_reply": "2023-08-08T21:51:30.613788Z"
    },
    "papermill": {
     "duration": 93.870461,
     "end_time": "2023-08-08T21:51:30.618762",
     "exception": false,
     "start_time": "2023-08-08T21:49:56.748301",
     "status": "completed"
    },
    "tags": []
   },
   "outputs": [
    {
     "name": "stdout",
     "output_type": "stream",
     "text": [
      "Iteration:  0\n",
      "[7 8 7 ... 7 4 7] [3 7 6 ... 6 3 3]\n",
      "Accuracy:  0.08938983050847457\n",
      "[7 8 7 ... 7 4 7] [3 7 6 ... 6 3 3]\n",
      "Wrong-Accuracy:  0.9106101694915254\n",
      "Iteration:  50\n",
      "[8 7 0 ... 6 5 8] [3 7 6 ... 6 3 3]\n",
      "Accuracy:  0.714135593220339\n",
      "[8 7 0 ... 6 5 8] [3 7 6 ... 6 3 3]\n",
      "Wrong-Accuracy:  0.285864406779661\n",
      "Iteration:  100\n",
      "[3 7 6 ... 6 3 3] [3 7 6 ... 6 3 3]\n",
      "Accuracy:  0.798677966101695\n",
      "[3 7 6 ... 6 3 3] [3 7 6 ... 6 3 3]\n",
      "Wrong-Accuracy:  0.20132203389830508\n",
      "Iteration:  150\n",
      "[3 7 6 ... 6 3 3] [3 7 6 ... 6 3 3]\n",
      "Accuracy:  0.8384406779661017\n",
      "[3 7 6 ... 6 3 3] [3 7 6 ... 6 3 3]\n",
      "Wrong-Accuracy:  0.1615593220338983\n",
      "Iteration:  200\n",
      "[3 7 6 ... 6 3 3] [3 7 6 ... 6 3 3]\n",
      "Accuracy:  0.8571694915254238\n",
      "[3 7 6 ... 6 3 3] [3 7 6 ... 6 3 3]\n",
      "Wrong-Accuracy:  0.14283050847457626\n",
      "Iteration:  250\n",
      "[3 7 6 ... 6 3 3] [3 7 6 ... 6 3 3]\n",
      "Accuracy:  0.8678983050847457\n",
      "[3 7 6 ... 6 3 3] [3 7 6 ... 6 3 3]\n",
      "Wrong-Accuracy:  0.13210169491525423\n",
      "Iteration:  300\n",
      "[3 7 6 ... 6 3 3] [3 7 6 ... 6 3 3]\n",
      "Accuracy:  0.8753389830508475\n",
      "[3 7 6 ... 6 3 3] [3 7 6 ... 6 3 3]\n",
      "Wrong-Accuracy:  0.12466101694915255\n",
      "Iteration:  350\n",
      "[3 7 6 ... 6 3 3] [3 7 6 ... 6 3 3]\n",
      "Accuracy:  0.8814745762711864\n",
      "[3 7 6 ... 6 3 3] [3 7 6 ... 6 3 3]\n",
      "Wrong-Accuracy:  0.11852542372881356\n",
      "Iteration:  400\n",
      "[3 7 6 ... 6 3 3] [3 7 6 ... 6 3 3]\n",
      "Accuracy:  0.886864406779661\n",
      "[3 7 6 ... 6 3 3] [3 7 6 ... 6 3 3]\n",
      "Wrong-Accuracy:  0.11313559322033899\n",
      "Iteration:  450\n",
      "[3 7 6 ... 6 3 3] [3 7 6 ... 6 3 3]\n",
      "Accuracy:  0.8911694915254237\n",
      "[3 7 6 ... 6 3 3] [3 7 6 ... 6 3 3]\n",
      "Wrong-Accuracy:  0.10883050847457627\n"
     ]
    }
   ],
   "source": [
    "W1, b1, W2, b2 = gradient_decent(X_train, Y_train, 500, 0.4)\n",
    "#Todos: Accuracy still needs to reach 99, \n",
    "#add more complexetiy or a new node layer\n",
    "#alpha calculation using A2 sorted for predictions == false "
   ]
  },
  {
   "cell_type": "code",
   "execution_count": null,
   "id": "b1c60c74",
   "metadata": {
    "papermill": {
     "duration": 0.008659,
     "end_time": "2023-08-08T21:51:30.636706",
     "exception": false,
     "start_time": "2023-08-08T21:51:30.628047",
     "status": "completed"
    },
    "tags": []
   },
   "outputs": [],
   "source": []
  },
  {
   "cell_type": "code",
   "execution_count": 8,
   "id": "3e5ba95a",
   "metadata": {
    "execution": {
     "iopub.execute_input": "2023-08-08T21:51:30.657035Z",
     "iopub.status.busy": "2023-08-08T21:51:30.656475Z",
     "iopub.status.idle": "2023-08-08T21:51:30.669769Z",
     "shell.execute_reply": "2023-08-08T21:51:30.668626Z"
    },
    "papermill": {
     "duration": 0.027449,
     "end_time": "2023-08-08T21:51:30.673208",
     "exception": false,
     "start_time": "2023-08-08T21:51:30.645759",
     "status": "completed"
    },
    "tags": []
   },
   "outputs": [],
   "source": [
    "def make_predictions(X, W1, b1, W2, b2):\n",
    "    _,_,_,A2 = forward_prop(W1, b1, W2, b2, X)\n",
    "    predictions = get_predictions(A2)\n",
    "    return predictions\n",
    "\n",
    "def test_predictions(index, W1, b1, W2, b2):\n",
    "    current_img = X_train[:,index,None]\n",
    "    prediction = make_predictions(X_train[:,index,None], W1, b1, W2, b2)\n",
    "    label = Y_train[index]\n",
    "    print('Success !' if  prediction == label else 'wrong !')\n",
    "    print(\"Prediction: \",prediction)\n",
    "    print(\"Label: \", label)\n",
    "    \n",
    "    current_img = current_img.reshape((28,28)) * 255\n",
    "    plt.gray()\n",
    "    plt.imshow(current_img, interpolation = \"nearest\")\n",
    "    plt.show()"
   ]
  },
  {
   "cell_type": "code",
   "execution_count": 9,
   "id": "b22c2a3f",
   "metadata": {
    "execution": {
     "iopub.execute_input": "2023-08-08T21:51:30.693912Z",
     "iopub.status.busy": "2023-08-08T21:51:30.693391Z",
     "iopub.status.idle": "2023-08-08T21:51:30.894206Z",
     "shell.execute_reply": "2023-08-08T21:51:30.893074Z"
    },
    "papermill": {
     "duration": 0.213517,
     "end_time": "2023-08-08T21:51:30.896355",
     "exception": false,
     "start_time": "2023-08-08T21:51:30.682838",
     "status": "completed"
    },
    "tags": []
   },
   "outputs": [
    {
     "name": "stdout",
     "output_type": "stream",
     "text": [
      "Success !\n",
      "Prediction:  [3]\n",
      "Label:  3\n"
     ]
    },
    {
     "data": {
      "image/png": "[encoded data removed]",
      "text/plain": [
       "<Figure size 640x480 with 1 Axes>"
      ]
     },
     "metadata": {},
     "output_type": "display_data"
    }
   ],
   "source": [
    "test_predictions(11, W1, b1, W2, b2)"
   ]
  },
  {
   "cell_type": "code",
   "execution_count": 10,
   "id": "d3ee987d",
   "metadata": {
    "execution": {
     "iopub.execute_input": "2023-08-08T21:51:30.911648Z",
     "iopub.status.busy": "2023-08-08T21:51:30.909789Z",
     "iopub.status.idle": "2023-08-08T21:51:40.119703Z",
     "shell.execute_reply": "2023-08-08T21:51:40.118427Z"
    },
    "papermill": {
     "duration": 9.219619,
     "end_time": "2023-08-08T21:51:40.122301",
     "exception": false,
     "start_time": "2023-08-08T21:51:30.902682",
     "status": "completed"
    },
    "tags": []
   },
   "outputs": [
    {
     "name": "stderr",
     "output_type": "stream",
     "text": [
      "/opt/conda/lib/python3.10/site-packages/tensorflow_io/python/ops/__init__.py:98: UserWarning: unable to load libtensorflow_io_plugins.so: unable to open file: libtensorflow_io_plugins.so, from paths: ['/opt/conda/lib/python3.10/site-packages/tensorflow_io/python/ops/libtensorflow_io_plugins.so']\n",
      "caused by: ['/opt/conda/lib/python3.10/site-packages/tensorflow_io/python/ops/libtensorflow_io_plugins.so: undefined symbol: _ZN3tsl6StatusC1EN10tensorflow5error4CodeESt17basic_string_viewIcSt11char_traitsIcEENS_14SourceLocationE']\n",
      "  warnings.warn(f\"unable to load libtensorflow_io_plugins.so: {e}\")\n",
      "/opt/conda/lib/python3.10/site-packages/tensorflow_io/python/ops/__init__.py:104: UserWarning: file system plugins are not loaded: unable to open file: libtensorflow_io.so, from paths: ['/opt/conda/lib/python3.10/site-packages/tensorflow_io/python/ops/libtensorflow_io.so']\n",
      "caused by: ['/opt/conda/lib/python3.10/site-packages/tensorflow_io/python/ops/libtensorflow_io.so: undefined symbol: _ZTVN10tensorflow13GcsFileSystemE']\n",
      "  warnings.warn(f\"file system plugins are not loaded: {e}\")\n"
     ]
    }
   ],
   "source": [
    "#Use keras to read and form nodes with layers and import model  \n",
    "from keras.datasets import mnist\n",
    "(train_images, train_labels),(test_images, test_labels)= mnist.load_data(\"/kaggle/input/mnistnpz/mnist.npz\")"
   ]
  },
  {
   "cell_type": "code",
   "execution_count": 11,
   "id": "4af526fc",
   "metadata": {
    "execution": {
     "iopub.execute_input": "2023-08-08T21:51:40.136176Z",
     "iopub.status.busy": "2023-08-08T21:51:40.135401Z",
     "iopub.status.idle": "2023-08-08T21:51:40.245639Z",
     "shell.execute_reply": "2023-08-08T21:51:40.244406Z"
    },
    "papermill": {
     "duration": 0.119972,
     "end_time": "2023-08-08T21:51:40.248220",
     "exception": false,
     "start_time": "2023-08-08T21:51:40.128248",
     "status": "completed"
    },
    "tags": []
   },
   "outputs": [],
   "source": [
    "train_images =  train_images.reshape((60000,28,28,1))\n",
    "train_images = train_images.astype(\"float32\")/255\n",
    "\n",
    "test_images = test_images.reshape((10000,28,28,1))\n",
    "test_images = test_images.astype(\"float32\")/255\n",
    "\n",
    "from keras.utils import to_categorical\n",
    "train_labels = to_categorical(train_labels)\n",
    "test_labels = to_categorical(test_labels)"
   ]
  },
  {
   "cell_type": "code",
   "execution_count": 12,
   "id": "d071584b",
   "metadata": {
    "execution": {
     "iopub.execute_input": "2023-08-08T21:51:40.261757Z",
     "iopub.status.busy": "2023-08-08T21:51:40.261344Z",
     "iopub.status.idle": "2023-08-08T21:51:40.555575Z",
     "shell.execute_reply": "2023-08-08T21:51:40.554355Z"
    },
    "papermill": {
     "duration": 0.304479,
     "end_time": "2023-08-08T21:51:40.558655",
     "exception": false,
     "start_time": "2023-08-08T21:51:40.254176",
     "status": "completed"
    },
    "tags": []
   },
   "outputs": [
    {
     "name": "stdout",
     "output_type": "stream",
     "text": [
      "Model: \"sequential\"\n",
      "_________________________________________________________________\n",
      " Layer (type)                Output Shape              Param #   \n",
      "=================================================================\n",
      " conv2d (Conv2D)             (None, 26, 26, 32)        320       \n",
      "                                                                 \n",
      " max_pooling2d (MaxPooling2D  (None, 13, 13, 32)       0         \n",
      " )                                                               \n",
      "                                                                 \n",
      " conv2d_1 (Conv2D)           (None, 11, 11, 64)        18496     \n",
      "                                                                 \n",
      " max_pooling2d_1 (MaxPooling  (None, 5, 5, 64)         0         \n",
      " 2D)                                                             \n",
      "                                                                 \n",
      " conv2d_2 (Conv2D)           (None, 3, 3, 64)          36928     \n",
      "                                                                 \n",
      " flatten (Flatten)           (None, 576)               0         \n",
      "                                                                 \n",
      " dense (Dense)               (None, 64)                36928     \n",
      "                                                                 \n",
      " dense_1 (Dense)             (None, 10)                650       \n",
      "                                                                 \n",
      "=================================================================\n",
      "Total params: 93,322\n",
      "Trainable params: 93,322\n",
      "Non-trainable params: 0\n",
      "_________________________________________________________________\n"
     ]
    }
   ],
   "source": [
    "from keras import layers\n",
    "from keras import models\n",
    "\n",
    "model = models.Sequential()\n",
    "model.add(layers.Conv2D(32,(3,3),activation=\"relu\", input_shape = (28,28,1)))\n",
    "model.add(layers.MaxPooling2D((2,2)))\n",
    "model.add(layers.Conv2D(64,(3,3),activation=\"relu\"))\n",
    "model.add(layers.MaxPooling2D((2,2)))\n",
    "model.add(layers.Conv2D(64,(3,3),activation=\"relu\"))\n",
    "#flatten nodes tree\n",
    "model.add(layers.Flatten())\n",
    "model.add(layers.Dense(64,activation='relu'))\n",
    "model.add(layers.Dense(10,activation='softmax'))\n",
    "model.summary()"
   ]
  },
  {
   "cell_type": "code",
   "execution_count": 13,
   "id": "60f5e4bb",
   "metadata": {
    "execution": {
     "iopub.execute_input": "2023-08-08T21:51:40.575867Z",
     "iopub.status.busy": "2023-08-08T21:51:40.575032Z",
     "iopub.status.idle": "2023-08-08T21:51:40.595239Z",
     "shell.execute_reply": "2023-08-08T21:51:40.594119Z"
    },
    "papermill": {
     "duration": 0.031853,
     "end_time": "2023-08-08T21:51:40.597922",
     "exception": false,
     "start_time": "2023-08-08T21:51:40.566069",
     "status": "completed"
    },
    "tags": []
   },
   "outputs": [],
   "source": [
    "model.compile(optimizer=\"rmsprop\",\n",
    "             loss = \"categorical_crossentropy\",\n",
    "             metrics = [\"accuracy\"])"
   ]
  },
  {
   "cell_type": "code",
   "execution_count": 14,
   "id": "fd5828cd",
   "metadata": {
    "execution": {
     "iopub.execute_input": "2023-08-08T21:51:40.614715Z",
     "iopub.status.busy": "2023-08-08T21:51:40.614304Z",
     "iopub.status.idle": "2023-08-08T21:55:15.530137Z",
     "shell.execute_reply": "2023-08-08T21:55:15.529305Z"
    },
    "papermill": {
     "duration": 214.926868,
     "end_time": "2023-08-08T21:55:15.532366",
     "exception": false,
     "start_time": "2023-08-08T21:51:40.605498",
     "status": "completed"
    },
    "tags": []
   },
   "outputs": [
    {
     "name": "stdout",
     "output_type": "stream",
     "text": [
      "Epoch 1/8\n",
      "938/938 [==============================] - 28s 29ms/step - loss: 0.1752 - accuracy: 0.9462\n",
      "Epoch 2/8\n",
      "938/938 [==============================] - 27s 28ms/step - loss: 0.0481 - accuracy: 0.9851\n",
      "Epoch 3/8\n",
      "938/938 [==============================] - 26s 28ms/step - loss: 0.0320 - accuracy: 0.9901\n",
      "Epoch 4/8\n",
      "938/938 [==============================] - 27s 28ms/step - loss: 0.0238 - accuracy: 0.9926\n",
      "Epoch 5/8\n",
      "938/938 [==============================] - 26s 28ms/step - loss: 0.0182 - accuracy: 0.9945\n",
      "Epoch 6/8\n",
      "938/938 [==============================] - 27s 29ms/step - loss: 0.0154 - accuracy: 0.9955\n",
      "Epoch 7/8\n",
      "938/938 [==============================] - 27s 28ms/step - loss: 0.0128 - accuracy: 0.9962\n",
      "Epoch 8/8\n",
      "938/938 [==============================] - 27s 28ms/step - loss: 0.0098 - accuracy: 0.9972\n"
     ]
    },
    {
     "data": {
      "text/plain": [
       "<keras.callbacks.History at 0x7af3d80fd600>"
      ]
     },
     "execution_count": 14,
     "metadata": {},
     "output_type": "execute_result"
    }
   ],
   "source": [
    "model.fit(train_images, train_labels, epochs=8, batch_size=64)"
   ]
  },
  {
   "cell_type": "code",
   "execution_count": 15,
   "id": "95f11f3f",
   "metadata": {
    "execution": {
     "iopub.execute_input": "2023-08-08T21:55:16.075344Z",
     "iopub.status.busy": "2023-08-08T21:55:16.074966Z",
     "iopub.status.idle": "2023-08-08T21:55:26.893376Z",
     "shell.execute_reply": "2023-08-08T21:55:26.892217Z"
    },
    "papermill": {
     "duration": 11.12414,
     "end_time": "2023-08-08T21:55:26.895766",
     "exception": false,
     "start_time": "2023-08-08T21:55:15.771626",
     "status": "completed"
    },
    "tags": []
   },
   "outputs": [
    {
     "name": "stdout",
     "output_type": "stream",
     "text": [
      "1875/1875 [==============================] - 11s 6ms/step - loss: 0.0055 - accuracy: 0.9981\n"
     ]
    },
    {
     "data": {
      "text/plain": [
       "0.9980999827384949"
      ]
     },
     "execution_count": 15,
     "metadata": {},
     "output_type": "execute_result"
    }
   ],
   "source": [
    "model.evaluate(train_images, train_labels)[1]"
   ]
  }
 ],
 "metadata": {
  "kernelspec": {
   "display_name": "Python 3",
   "language": "python",
   "name": "python3"
  },
  "language_info": {
   "codemirror_mode": {
    "name": "ipython",
    "version": 3
   },
   "file_extension": ".py",
   "mimetype": "text/x-python",
   "name": "python",
   "nbconvert_exporter": "python",
   "pygments_lexer": "ipython3",
   "version": "3.10.10"
  },
  "papermill": {
   "default_parameters": {},
   "duration": 351.229571,
   "end_time": "2023-08-08T21:55:30.409087",
   "environment_variables": {},
   "exception": null,
   "input_path": "__notebook__.ipynb",
   "output_path": "__notebook__.ipynb",
   "parameters": {},
   "start_time": "2023-08-08T21:49:39.179516",
   "version": "2.4.0"
  }
 },
 "nbformat": 4,
 "nbformat_minor": 5
}

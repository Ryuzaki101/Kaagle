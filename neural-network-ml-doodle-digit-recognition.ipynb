{
 "cells": [
  {
   "cell_type": "code",
   "execution_count": 1,
   "id": "addb9373",
   "metadata": {
    "_cell_guid": "b1076dfc-b9ad-4769-8c92-a6c4dae69d19",
    "_uuid": "8f2839f25d086af736a60e9eeb907d3b93b6e0e5",
    "execution": {
     "iopub.execute_input": "2023-08-08T22:07:46.623612Z",
     "iopub.status.busy": "2023-08-08T22:07:46.623097Z",
     "iopub.status.idle": "2023-08-08T22:07:52.977355Z",
     "shell.execute_reply": "2023-08-08T22:07:52.976262Z"
    },
    "papermill": {
     "duration": 6.366298,
     "end_time": "2023-08-08T22:07:52.980326",
     "exception": false,
     "start_time": "2023-08-08T22:07:46.614028",
     "status": "completed"
    },
    "tags": []
   },
   "outputs": [],
   "source": [
    "# This Python 3 environment comes with many helpful analytics libraries installed\n",
    "# It is defined by the kaggle/python Docker image: https://github.com/kaggle/docker-python\n",
    "# For example, here's several helpful packages to load\n",
    "import numpy as np # linear algebra\n",
    "import pandas as pd # data processing, CSV file I/O (e.g. pd.read_csv)\n",
    "from matplotlib import pyplot as plt\n",
    "# Input data files are available in the read-only \"../input/\" directory\n",
    "# For example, running this (by clicking run or pressing Shift+Enter) will list all files under the input directory\n",
    "\n",
    "import os\n",
    "data = pd.read_csv('/kaggle/input/mnist-in-csv/mnist_train.csv')\n",
    "\n",
    "# You can write up to 20GB to the current directory (/kaggle/working/) that gets preserved as output when you create a version using \"Save & Run All\" \n",
    "# You can also write temporary files to /kaggle/temp/, but they won't be saved outside of the current session"
   ]
  },
  {
   "cell_type": "code",
   "execution_count": 2,
   "id": "07b9ffc4",
   "metadata": {
    "execution": {
     "iopub.execute_input": "2023-08-08T22:07:52.994153Z",
     "iopub.status.busy": "2023-08-08T22:07:52.993771Z",
     "iopub.status.idle": "2023-08-08T22:07:53.035157Z",
     "shell.execute_reply": "2023-08-08T22:07:53.034005Z"
    },
    "papermill": {
     "duration": 0.051826,
     "end_time": "2023-08-08T22:07:53.038413",
     "exception": false,
     "start_time": "2023-08-08T22:07:52.986587",
     "status": "completed"
    },
    "tags": []
   },
   "outputs": [
    {
     "data": {
      "text/html": [
       "<div>\n",
       "<style scoped>\n",
       "    .dataframe tbody tr th:only-of-type {\n",
       "        vertical-align: middle;\n",
       "    }\n",
       "\n",
       "    .dataframe tbody tr th {\n",
       "        vertical-align: top;\n",
       "    }\n",
       "\n",
       "    .dataframe thead th {\n",
       "        text-align: right;\n",
       "    }\n",
       "</style>\n",
       "<table border=\"1\" class=\"dataframe\">\n",
       "  <thead>\n",
       "    <tr style=\"text-align: right;\">\n",
       "      <th></th>\n",
       "      <th>label</th>\n",
       "      <th>1x1</th>\n",
       "      <th>1x2</th>\n",
       "      <th>1x3</th>\n",
       "      <th>1x4</th>\n",
       "      <th>1x5</th>\n",
       "      <th>1x6</th>\n",
       "      <th>1x7</th>\n",
       "      <th>1x8</th>\n",
       "      <th>1x9</th>\n",
       "      <th>...</th>\n",
       "      <th>28x19</th>\n",
       "      <th>28x20</th>\n",
       "      <th>28x21</th>\n",
       "      <th>28x22</th>\n",
       "      <th>28x23</th>\n",
       "      <th>28x24</th>\n",
       "      <th>28x25</th>\n",
       "      <th>28x26</th>\n",
       "      <th>28x27</th>\n",
       "      <th>28x28</th>\n",
       "    </tr>\n",
       "  </thead>\n",
       "  <tbody>\n",
       "    <tr>\n",
       "      <th>0</th>\n",
       "      <td>5</td>\n",
       "      <td>0</td>\n",
       "      <td>0</td>\n",
       "      <td>0</td>\n",
       "      <td>0</td>\n",
       "      <td>0</td>\n",
       "      <td>0</td>\n",
       "      <td>0</td>\n",
       "      <td>0</td>\n",
       "      <td>0</td>\n",
       "      <td>...</td>\n",
       "      <td>0</td>\n",
       "      <td>0</td>\n",
       "      <td>0</td>\n",
       "      <td>0</td>\n",
       "      <td>0</td>\n",
       "      <td>0</td>\n",
       "      <td>0</td>\n",
       "      <td>0</td>\n",
       "      <td>0</td>\n",
       "      <td>0</td>\n",
       "    </tr>\n",
       "    <tr>\n",
       "      <th>1</th>\n",
       "      <td>0</td>\n",
       "      <td>0</td>\n",
       "      <td>0</td>\n",
       "      <td>0</td>\n",
       "      <td>0</td>\n",
       "      <td>0</td>\n",
       "      <td>0</td>\n",
       "      <td>0</td>\n",
       "      <td>0</td>\n",
       "      <td>0</td>\n",
       "      <td>...</td>\n",
       "      <td>0</td>\n",
       "      <td>0</td>\n",
       "      <td>0</td>\n",
       "      <td>0</td>\n",
       "      <td>0</td>\n",
       "      <td>0</td>\n",
       "      <td>0</td>\n",
       "      <td>0</td>\n",
       "      <td>0</td>\n",
       "      <td>0</td>\n",
       "    </tr>\n",
       "    <tr>\n",
       "      <th>2</th>\n",
       "      <td>4</td>\n",
       "      <td>0</td>\n",
       "      <td>0</td>\n",
       "      <td>0</td>\n",
       "      <td>0</td>\n",
       "      <td>0</td>\n",
       "      <td>0</td>\n",
       "      <td>0</td>\n",
       "      <td>0</td>\n",
       "      <td>0</td>\n",
       "      <td>...</td>\n",
       "      <td>0</td>\n",
       "      <td>0</td>\n",
       "      <td>0</td>\n",
       "      <td>0</td>\n",
       "      <td>0</td>\n",
       "      <td>0</td>\n",
       "      <td>0</td>\n",
       "      <td>0</td>\n",
       "      <td>0</td>\n",
       "      <td>0</td>\n",
       "    </tr>\n",
       "    <tr>\n",
       "      <th>3</th>\n",
       "      <td>1</td>\n",
       "      <td>0</td>\n",
       "      <td>0</td>\n",
       "      <td>0</td>\n",
       "      <td>0</td>\n",
       "      <td>0</td>\n",
       "      <td>0</td>\n",
       "      <td>0</td>\n",
       "      <td>0</td>\n",
       "      <td>0</td>\n",
       "      <td>...</td>\n",
       "      <td>0</td>\n",
       "      <td>0</td>\n",
       "      <td>0</td>\n",
       "      <td>0</td>\n",
       "      <td>0</td>\n",
       "      <td>0</td>\n",
       "      <td>0</td>\n",
       "      <td>0</td>\n",
       "      <td>0</td>\n",
       "      <td>0</td>\n",
       "    </tr>\n",
       "    <tr>\n",
       "      <th>4</th>\n",
       "      <td>9</td>\n",
       "      <td>0</td>\n",
       "      <td>0</td>\n",
       "      <td>0</td>\n",
       "      <td>0</td>\n",
       "      <td>0</td>\n",
       "      <td>0</td>\n",
       "      <td>0</td>\n",
       "      <td>0</td>\n",
       "      <td>0</td>\n",
       "      <td>...</td>\n",
       "      <td>0</td>\n",
       "      <td>0</td>\n",
       "      <td>0</td>\n",
       "      <td>0</td>\n",
       "      <td>0</td>\n",
       "      <td>0</td>\n",
       "      <td>0</td>\n",
       "      <td>0</td>\n",
       "      <td>0</td>\n",
       "      <td>0</td>\n",
       "    </tr>\n",
       "    <tr>\n",
       "      <th>5</th>\n",
       "      <td>2</td>\n",
       "      <td>0</td>\n",
       "      <td>0</td>\n",
       "      <td>0</td>\n",
       "      <td>0</td>\n",
       "      <td>0</td>\n",
       "      <td>0</td>\n",
       "      <td>0</td>\n",
       "      <td>0</td>\n",
       "      <td>0</td>\n",
       "      <td>...</td>\n",
       "      <td>0</td>\n",
       "      <td>0</td>\n",
       "      <td>0</td>\n",
       "      <td>0</td>\n",
       "      <td>0</td>\n",
       "      <td>0</td>\n",
       "      <td>0</td>\n",
       "      <td>0</td>\n",
       "      <td>0</td>\n",
       "      <td>0</td>\n",
       "    </tr>\n",
       "    <tr>\n",
       "      <th>6</th>\n",
       "      <td>1</td>\n",
       "      <td>0</td>\n",
       "      <td>0</td>\n",
       "      <td>0</td>\n",
       "      <td>0</td>\n",
       "      <td>0</td>\n",
       "      <td>0</td>\n",
       "      <td>0</td>\n",
       "      <td>0</td>\n",
       "      <td>0</td>\n",
       "      <td>...</td>\n",
       "      <td>0</td>\n",
       "      <td>0</td>\n",
       "      <td>0</td>\n",
       "      <td>0</td>\n",
       "      <td>0</td>\n",
       "      <td>0</td>\n",
       "      <td>0</td>\n",
       "      <td>0</td>\n",
       "      <td>0</td>\n",
       "      <td>0</td>\n",
       "    </tr>\n",
       "    <tr>\n",
       "      <th>7</th>\n",
       "      <td>3</td>\n",
       "      <td>0</td>\n",
       "      <td>0</td>\n",
       "      <td>0</td>\n",
       "      <td>0</td>\n",
       "      <td>0</td>\n",
       "      <td>0</td>\n",
       "      <td>0</td>\n",
       "      <td>0</td>\n",
       "      <td>0</td>\n",
       "      <td>...</td>\n",
       "      <td>0</td>\n",
       "      <td>0</td>\n",
       "      <td>0</td>\n",
       "      <td>0</td>\n",
       "      <td>0</td>\n",
       "      <td>0</td>\n",
       "      <td>0</td>\n",
       "      <td>0</td>\n",
       "      <td>0</td>\n",
       "      <td>0</td>\n",
       "    </tr>\n",
       "    <tr>\n",
       "      <th>8</th>\n",
       "      <td>1</td>\n",
       "      <td>0</td>\n",
       "      <td>0</td>\n",
       "      <td>0</td>\n",
       "      <td>0</td>\n",
       "      <td>0</td>\n",
       "      <td>0</td>\n",
       "      <td>0</td>\n",
       "      <td>0</td>\n",
       "      <td>0</td>\n",
       "      <td>...</td>\n",
       "      <td>0</td>\n",
       "      <td>0</td>\n",
       "      <td>0</td>\n",
       "      <td>0</td>\n",
       "      <td>0</td>\n",
       "      <td>0</td>\n",
       "      <td>0</td>\n",
       "      <td>0</td>\n",
       "      <td>0</td>\n",
       "      <td>0</td>\n",
       "    </tr>\n",
       "    <tr>\n",
       "      <th>9</th>\n",
       "      <td>4</td>\n",
       "      <td>0</td>\n",
       "      <td>0</td>\n",
       "      <td>0</td>\n",
       "      <td>0</td>\n",
       "      <td>0</td>\n",
       "      <td>0</td>\n",
       "      <td>0</td>\n",
       "      <td>0</td>\n",
       "      <td>0</td>\n",
       "      <td>...</td>\n",
       "      <td>0</td>\n",
       "      <td>0</td>\n",
       "      <td>0</td>\n",
       "      <td>0</td>\n",
       "      <td>0</td>\n",
       "      <td>0</td>\n",
       "      <td>0</td>\n",
       "      <td>0</td>\n",
       "      <td>0</td>\n",
       "      <td>0</td>\n",
       "    </tr>\n",
       "  </tbody>\n",
       "</table>\n",
       "<p>10 rows × 785 columns</p>\n",
       "</div>"
      ],
      "text/plain": [
       "   label  1x1  1x2  1x3  1x4  1x5  1x6  1x7  1x8  1x9  ...  28x19  28x20  \\\n",
       "0      5    0    0    0    0    0    0    0    0    0  ...      0      0   \n",
       "1      0    0    0    0    0    0    0    0    0    0  ...      0      0   \n",
       "2      4    0    0    0    0    0    0    0    0    0  ...      0      0   \n",
       "3      1    0    0    0    0    0    0    0    0    0  ...      0      0   \n",
       "4      9    0    0    0    0    0    0    0    0    0  ...      0      0   \n",
       "5      2    0    0    0    0    0    0    0    0    0  ...      0      0   \n",
       "6      1    0    0    0    0    0    0    0    0    0  ...      0      0   \n",
       "7      3    0    0    0    0    0    0    0    0    0  ...      0      0   \n",
       "8      1    0    0    0    0    0    0    0    0    0  ...      0      0   \n",
       "9      4    0    0    0    0    0    0    0    0    0  ...      0      0   \n",
       "\n",
       "   28x21  28x22  28x23  28x24  28x25  28x26  28x27  28x28  \n",
       "0      0      0      0      0      0      0      0      0  \n",
       "1      0      0      0      0      0      0      0      0  \n",
       "2      0      0      0      0      0      0      0      0  \n",
       "3      0      0      0      0      0      0      0      0  \n",
       "4      0      0      0      0      0      0      0      0  \n",
       "5      0      0      0      0      0      0      0      0  \n",
       "6      0      0      0      0      0      0      0      0  \n",
       "7      0      0      0      0      0      0      0      0  \n",
       "8      0      0      0      0      0      0      0      0  \n",
       "9      0      0      0      0      0      0      0      0  \n",
       "\n",
       "[10 rows x 785 columns]"
      ]
     },
     "execution_count": 2,
     "metadata": {},
     "output_type": "execute_result"
    }
   ],
   "source": [
    "data.head(10)"
   ]
  },
  {
   "cell_type": "code",
   "execution_count": null,
   "id": "34b5fd3d",
   "metadata": {
    "papermill": {
     "duration": 0.006419,
     "end_time": "2023-08-08T22:07:53.051740",
     "exception": false,
     "start_time": "2023-08-08T22:07:53.045321",
     "status": "completed"
    },
    "tags": []
   },
   "outputs": [],
   "source": []
  },
  {
   "cell_type": "code",
   "execution_count": 3,
   "id": "01608905",
   "metadata": {
    "execution": {
     "iopub.execute_input": "2023-08-08T22:07:53.066800Z",
     "iopub.status.busy": "2023-08-08T22:07:53.066367Z",
     "iopub.status.idle": "2023-08-08T22:07:54.060913Z",
     "shell.execute_reply": "2023-08-08T22:07:54.059975Z"
    },
    "papermill": {
     "duration": 1.005284,
     "end_time": "2023-08-08T22:07:54.063618",
     "exception": false,
     "start_time": "2023-08-08T22:07:53.058334",
     "status": "completed"
    },
    "tags": []
   },
   "outputs": [],
   "source": [
    "data = np.array(data)\n",
    "m, n = data.shape\n",
    "np.random.shuffle(data)\n",
    "\n",
    "data_dev = data[0:1000].T\n",
    "Y_dev = data_dev[0]\n",
    "X_dev = data_dev[1:n]\n",
    "X_dev = X_dev / 255.\n",
    "\n",
    "data_train = data[1000:m].T\n",
    "Y_train = data_train[0]\n",
    "X_train = data_train[1:n]\n"
   ]
  },
  {
   "cell_type": "code",
   "execution_count": 4,
   "id": "7e8325cf",
   "metadata": {
    "execution": {
     "iopub.execute_input": "2023-08-08T22:07:54.078833Z",
     "iopub.status.busy": "2023-08-08T22:07:54.078442Z",
     "iopub.status.idle": "2023-08-08T22:07:54.292563Z",
     "shell.execute_reply": "2023-08-08T22:07:54.291416Z"
    },
    "papermill": {
     "duration": 0.224898,
     "end_time": "2023-08-08T22:07:54.295387",
     "exception": false,
     "start_time": "2023-08-08T22:07:54.070489",
     "status": "completed"
    },
    "tags": []
   },
   "outputs": [],
   "source": [
    "X_train = X_train / 255."
   ]
  },
  {
   "cell_type": "code",
   "execution_count": 5,
   "id": "46159f7c",
   "metadata": {
    "execution": {
     "iopub.execute_input": "2023-08-08T22:07:54.310022Z",
     "iopub.status.busy": "2023-08-08T22:07:54.309649Z",
     "iopub.status.idle": "2023-08-08T22:07:54.323805Z",
     "shell.execute_reply": "2023-08-08T22:07:54.323033Z"
    },
    "papermill": {
     "duration": 0.0242,
     "end_time": "2023-08-08T22:07:54.326078",
     "exception": false,
     "start_time": "2023-08-08T22:07:54.301878",
     "status": "completed"
    },
    "tags": []
   },
   "outputs": [],
   "source": [
    "def init_param():\n",
    "    W1 = np.random.rand(10, 784) - 0.5\n",
    "    b1 = np.random.rand(10, 1) - 0.5\n",
    "    W2 = np.random.rand(10, 10) - 0.5\n",
    "    b2 = np.random.rand(10, 1) - 0.5\n",
    "    return W1, b1, W2, b2\n",
    "\n",
    "def ReLU(Z):\n",
    "    return np.maximum(0,Z)\n",
    "\n",
    "def softmax(Z):\n",
    "    A = np.exp(Z) / sum(np.exp(Z))\n",
    "    return A\n",
    "\n",
    "def forward_prop(W1, b1, W2, b2, X):\n",
    "    Z1 = W1.dot(X) + b1\n",
    "    A1 = ReLU(Z1)\n",
    "    Z2 = W2.dot(A1) + b2\n",
    "    A2 = softmax(Z2)\n",
    "    return Z1, A1, Z2, A2\n",
    "\n",
    "def one_hot(Y):\n",
    "    one_hot_Y = np.zeros((Y.size, Y.max() + 1))\n",
    "    one_hot_Y[np.arange(Y.size), Y] = 1\n",
    "    one_hot_Y = one_hot_Y.T\n",
    "    return one_hot_Y\n",
    "\n",
    "def deriv_ReLU(Z):\n",
    "    return Z > 0\n",
    "\n",
    "def back_prop(Z1, A1, Z2, A2, W2, X, Y):\n",
    "    m = Y.size\n",
    "    one_hot_Y = one_hot(Y)\n",
    "    dZ2 = A2 - one_hot_Y\n",
    "    dW2 = 1 / m * dZ2.dot(A1.T)\n",
    "    db2 = 1 / m * np.sum(dZ2)\n",
    "    dZ1 = W2.T.dot(dZ2) * deriv_ReLU(Z1)\n",
    "    dW1 = 1 / m * dZ1.dot(X.T)\n",
    "    db1 = 1 / m * np.sum(dZ1)\n",
    "    return dW1, db1, dW2, db2\n",
    "    \n",
    "def update_params(W1, b1, W2, b2, dW1, db1, dW2, db2, alpha):\n",
    "        W1 = W1 - alpha * dW1\n",
    "        b1 = b1 - alpha * db1\n",
    "        W2 = W2 - alpha * dW2\n",
    "        b2 = b2 - alpha * db2\n",
    "        return W1, b1, W2, b2\n",
    "       "
   ]
  },
  {
   "cell_type": "code",
   "execution_count": 6,
   "id": "5993d2dc",
   "metadata": {
    "execution": {
     "iopub.execute_input": "2023-08-08T22:07:54.342849Z",
     "iopub.status.busy": "2023-08-08T22:07:54.342143Z",
     "iopub.status.idle": "2023-08-08T22:07:54.352352Z",
     "shell.execute_reply": "2023-08-08T22:07:54.351250Z"
    },
    "papermill": {
     "duration": 0.020748,
     "end_time": "2023-08-08T22:07:54.354962",
     "exception": false,
     "start_time": "2023-08-08T22:07:54.334214",
     "status": "completed"
    },
    "tags": []
   },
   "outputs": [],
   "source": [
    "def get_predictions(A2):\n",
    "    return np.argmax(A2, 0)\n",
    "\n",
    "def get_accuracy(predictions, Y):\n",
    "    print(predictions, Y)\n",
    "    return np.sum(predictions == Y) / Y.size\n",
    "\n",
    "def get_wrong_accuracy(predictions, Y):\n",
    "    print(predictions, Y)\n",
    "    return np.sum(predictions != Y) / Y.size\n",
    "\n",
    "def gradient_decent(X, Y, iterations, alpha):\n",
    "    W1, b1, W2, b2, = init_param()\n",
    "    for i in range(iterations):\n",
    "        Z1, A1, Z2, A2 = forward_prop(W1, b1, W2, b2, X)\n",
    "        dW1, db1, dW2, db2 = back_prop(Z1, A1, Z2, A2, W2, X, Y)\n",
    "        W1, b1, W2, b2 = update_params(W1, b1, W2, b2, dW1, db1, dW2, db2, alpha)\n",
    "        if i % 50 == 0:\n",
    "            print(\"Iteration: \", i)\n",
    "            print(\"Accuracy: \", get_accuracy(get_predictions(A2), Y))\n",
    "            print(\"Wrong-Accuracy: \", get_wrong_accuracy(get_predictions(A2), Y))\n",
    "    return W1, b1, W2, b2"
   ]
  },
  {
   "cell_type": "code",
   "execution_count": 7,
   "id": "f15708c4",
   "metadata": {
    "execution": {
     "iopub.execute_input": "2023-08-08T22:07:54.369962Z",
     "iopub.status.busy": "2023-08-08T22:07:54.369589Z",
     "iopub.status.idle": "2023-08-08T22:09:41.777484Z",
     "shell.execute_reply": "2023-08-08T22:09:41.775918Z"
    },
    "papermill": {
     "duration": 107.420905,
     "end_time": "2023-08-08T22:09:41.782492",
     "exception": false,
     "start_time": "2023-08-08T22:07:54.361587",
     "status": "completed"
    },
    "tags": []
   },
   "outputs": [
    {
     "name": "stdout",
     "output_type": "stream",
     "text": [
      "Iteration:  0\n",
      "[0 2 7 ... 0 0 5] [4 6 3 ... 3 0 2]\n",
      "Accuracy:  0.10020338983050847\n",
      "[0 2 7 ... 0 0 5] [4 6 3 ... 3 0 2]\n",
      "Wrong-Accuracy:  0.8997966101694915\n",
      "Iteration:  50\n",
      "[4 6 3 ... 7 0 2] [4 6 3 ... 3 0 2]\n",
      "Accuracy:  0.7103559322033899\n",
      "[4 6 3 ... 7 0 2] [4 6 3 ... 3 0 2]\n",
      "Wrong-Accuracy:  0.28964406779661017\n",
      "Iteration:  100\n",
      "[4 6 3 ... 3 0 2] [4 6 3 ... 3 0 2]\n",
      "Accuracy:  0.7919830508474577\n",
      "[4 6 3 ... 3 0 2] [4 6 3 ... 3 0 2]\n",
      "Wrong-Accuracy:  0.20801694915254237\n",
      "Iteration:  150\n",
      "[4 6 3 ... 3 0 2] [4 6 3 ... 3 0 2]\n",
      "Accuracy:  0.8363559322033899\n",
      "[4 6 3 ... 3 0 2] [4 6 3 ... 3 0 2]\n",
      "Wrong-Accuracy:  0.16364406779661017\n",
      "Iteration:  200\n",
      "[4 6 3 ... 3 0 2] [4 6 3 ... 3 0 2]\n",
      "Accuracy:  0.8551864406779661\n",
      "[4 6 3 ... 3 0 2] [4 6 3 ... 3 0 2]\n",
      "Wrong-Accuracy:  0.1448135593220339\n",
      "Iteration:  250\n",
      "[4 6 3 ... 3 0 2] [4 6 3 ... 3 0 2]\n",
      "Accuracy:  0.8653389830508474\n",
      "[4 6 3 ... 3 0 2] [4 6 3 ... 3 0 2]\n",
      "Wrong-Accuracy:  0.13466101694915253\n",
      "Iteration:  300\n",
      "[4 6 3 ... 3 0 2] [4 6 3 ... 3 0 2]\n",
      "Accuracy:  0.8733220338983051\n",
      "[4 6 3 ... 3 0 2] [4 6 3 ... 3 0 2]\n",
      "Wrong-Accuracy:  0.1266779661016949\n",
      "Iteration:  350\n",
      "[4 6 3 ... 3 0 2] [4 6 3 ... 3 0 2]\n",
      "Accuracy:  0.8798474576271187\n",
      "[4 6 3 ... 3 0 2] [4 6 3 ... 3 0 2]\n",
      "Wrong-Accuracy:  0.12015254237288135\n",
      "Iteration:  400\n",
      "[4 6 3 ... 3 0 2] [4 6 3 ... 3 0 2]\n",
      "Accuracy:  0.8813728813559322\n",
      "[4 6 3 ... 3 0 2] [4 6 3 ... 3 0 2]\n",
      "Wrong-Accuracy:  0.1186271186440678\n",
      "Iteration:  450\n",
      "[4 6 3 ... 3 0 2] [4 6 3 ... 3 0 2]\n",
      "Accuracy:  0.8872542372881356\n",
      "[4 6 3 ... 3 0 2] [4 6 3 ... 3 0 2]\n",
      "Wrong-Accuracy:  0.1127457627118644\n"
     ]
    }
   ],
   "source": [
    "W1, b1, W2, b2 = gradient_decent(X_train, Y_train, 500, 0.4)\n",
    "#Todos: Accuracy still needs to reach 99, \n",
    "#add more complexetiy or a new node layer\n",
    "#alpha calculation using A2 sorted for predictions == false "
   ]
  },
  {
   "cell_type": "code",
   "execution_count": null,
   "id": "08302de9",
   "metadata": {
    "papermill": {
     "duration": 0.015196,
     "end_time": "2023-08-08T22:09:41.814354",
     "exception": false,
     "start_time": "2023-08-08T22:09:41.799158",
     "status": "completed"
    },
    "tags": []
   },
   "outputs": [],
   "source": []
  },
  {
   "cell_type": "code",
   "execution_count": 8,
   "id": "f2282081",
   "metadata": {
    "execution": {
     "iopub.execute_input": "2023-08-08T22:09:41.849265Z",
     "iopub.status.busy": "2023-08-08T22:09:41.848380Z",
     "iopub.status.idle": "2023-08-08T22:09:41.868484Z",
     "shell.execute_reply": "2023-08-08T22:09:41.866533Z"
    },
    "papermill": {
     "duration": 0.042701,
     "end_time": "2023-08-08T22:09:41.873134",
     "exception": false,
     "start_time": "2023-08-08T22:09:41.830433",
     "status": "completed"
    },
    "tags": []
   },
   "outputs": [],
   "source": [
    "def make_predictions(X, W1, b1, W2, b2):\n",
    "    _,_,_,A2 = forward_prop(W1, b1, W2, b2, X)\n",
    "    predictions = get_predictions(A2)\n",
    "    return predictions\n",
    "\n",
    "def test_predictions(index, W1, b1, W2, b2):\n",
    "    current_img = X_train[:,index,None]\n",
    "    prediction = make_predictions(X_train[:,index,None], W1, b1, W2, b2)\n",
    "    label = Y_train[index]\n",
    "    print('Success !' if  prediction == label else 'wrong !')\n",
    "    print(\"Prediction: \",prediction)\n",
    "    print(\"Label: \", label)\n",
    "    \n",
    "    current_img = current_img.reshape((28,28)) * 255\n",
    "    plt.gray()\n",
    "    plt.imshow(current_img, interpolation = \"nearest\")\n",
    "    plt.show()"
   ]
  },
  {
   "cell_type": "code",
   "execution_count": 9,
   "id": "858d0be8",
   "metadata": {
    "execution": {
     "iopub.execute_input": "2023-08-08T22:09:41.901267Z",
     "iopub.status.busy": "2023-08-08T22:09:41.900895Z",
     "iopub.status.idle": "2023-08-08T22:09:42.168466Z",
     "shell.execute_reply": "2023-08-08T22:09:42.167665Z"
    },
    "papermill": {
     "duration": 0.28103,
     "end_time": "2023-08-08T22:09:42.170577",
     "exception": false,
     "start_time": "2023-08-08T22:09:41.889547",
     "status": "completed"
    },
    "tags": []
   },
   "outputs": [
    {
     "name": "stdout",
     "output_type": "stream",
     "text": [
      "Success !\n",
      "Prediction:  [3]\n",
      "Label:  3\n"
     ]
    },
    {
     "data": {
      "image/png": "[encoded data removed]",
      "text/plain": [
       "<Figure size 640x480 with 1 Axes>"
      ]
     },
     "metadata": {},
     "output_type": "display_data"
    }
   ],
   "source": [
    "test_predictions(11, W1, b1, W2, b2)"
   ]
  },
  {
   "cell_type": "code",
   "execution_count": 10,
   "id": "c0943173",
   "metadata": {
    "execution": {
     "iopub.execute_input": "2023-08-08T22:09:42.188845Z",
     "iopub.status.busy": "2023-08-08T22:09:42.187842Z",
     "iopub.status.idle": "2023-08-08T22:09:51.139871Z",
     "shell.execute_reply": "2023-08-08T22:09:51.138741Z"
    },
    "papermill": {
     "duration": 8.96406,
     "end_time": "2023-08-08T22:09:51.142633",
     "exception": false,
     "start_time": "2023-08-08T22:09:42.178573",
     "status": "completed"
    },
    "tags": []
   },
   "outputs": [
    {
     "name": "stderr",
     "output_type": "stream",
     "text": [
      "/opt/conda/lib/python3.10/site-packages/tensorflow_io/python/ops/__init__.py:98: UserWarning: unable to load libtensorflow_io_plugins.so: unable to open file: libtensorflow_io_plugins.so, from paths: ['/opt/conda/lib/python3.10/site-packages/tensorflow_io/python/ops/libtensorflow_io_plugins.so']\n",
      "caused by: ['/opt/conda/lib/python3.10/site-packages/tensorflow_io/python/ops/libtensorflow_io_plugins.so: undefined symbol: _ZN3tsl6StatusC1EN10tensorflow5error4CodeESt17basic_string_viewIcSt11char_traitsIcEENS_14SourceLocationE']\n",
      "  warnings.warn(f\"unable to load libtensorflow_io_plugins.so: {e}\")\n",
      "/opt/conda/lib/python3.10/site-packages/tensorflow_io/python/ops/__init__.py:104: UserWarning: file system plugins are not loaded: unable to open file: libtensorflow_io.so, from paths: ['/opt/conda/lib/python3.10/site-packages/tensorflow_io/python/ops/libtensorflow_io.so']\n",
      "caused by: ['/opt/conda/lib/python3.10/site-packages/tensorflow_io/python/ops/libtensorflow_io.so: undefined symbol: _ZTVN10tensorflow13GcsFileSystemE']\n",
      "  warnings.warn(f\"file system plugins are not loaded: {e}\")\n"
     ]
    }
   ],
   "source": [
    "#Use keras to read and form nodes with layers and import model  \n",
    "from keras.datasets import mnist\n",
    "(train_images, train_labels),(test_images, test_labels)= mnist.load_data(\"/kaggle/input/mnistnpz/mnist.npz\")"
   ]
  },
  {
   "cell_type": "code",
   "execution_count": 11,
   "id": "df715214",
   "metadata": {
    "execution": {
     "iopub.execute_input": "2023-08-08T22:09:51.160674Z",
     "iopub.status.busy": "2023-08-08T22:09:51.159893Z",
     "iopub.status.idle": "2023-08-08T22:09:51.264538Z",
     "shell.execute_reply": "2023-08-08T22:09:51.263570Z"
    },
    "papermill": {
     "duration": 0.116627,
     "end_time": "2023-08-08T22:09:51.267258",
     "exception": false,
     "start_time": "2023-08-08T22:09:51.150631",
     "status": "completed"
    },
    "tags": []
   },
   "outputs": [],
   "source": [
    "train_images =  train_images.reshape((60000,28,28,1))\n",
    "train_images = train_images.astype(\"float32\")/255\n",
    "\n",
    "test_images = test_images.reshape((10000,28,28,1))\n",
    "test_images = test_images.astype(\"float32\")/255\n",
    "\n",
    "from keras.utils import to_categorical\n",
    "train_labels = to_categorical(train_labels)\n",
    "test_labels = to_categorical(test_labels)"
   ]
  },
  {
   "cell_type": "code",
   "execution_count": 12,
   "id": "ed35b8c6",
   "metadata": {
    "execution": {
     "iopub.execute_input": "2023-08-08T22:09:51.284873Z",
     "iopub.status.busy": "2023-08-08T22:09:51.284490Z",
     "iopub.status.idle": "2023-08-08T22:09:51.772928Z",
     "shell.execute_reply": "2023-08-08T22:09:51.771834Z"
    },
    "papermill": {
     "duration": 0.511056,
     "end_time": "2023-08-08T22:09:51.786391",
     "exception": false,
     "start_time": "2023-08-08T22:09:51.275335",
     "status": "completed"
    },
    "tags": []
   },
   "outputs": [
    {
     "name": "stdout",
     "output_type": "stream",
     "text": [
      "Model: \"sequential\"\n",
      "_________________________________________________________________\n",
      " Layer (type)                Output Shape              Param #   \n",
      "=================================================================\n",
      " conv2d (Conv2D)             (None, 26, 26, 32)        320       \n",
      "                                                                 \n",
      " max_pooling2d (MaxPooling2D  (None, 13, 13, 32)       0         \n",
      " )                                                               \n",
      "                                                                 \n",
      " conv2d_1 (Conv2D)           (None, 11, 11, 64)        18496     \n",
      "                                                                 \n",
      " max_pooling2d_1 (MaxPooling  (None, 5, 5, 64)         0         \n",
      " 2D)                                                             \n",
      "                                                                 \n",
      " conv2d_2 (Conv2D)           (None, 3, 3, 64)          36928     \n",
      "                                                                 \n",
      " flatten (Flatten)           (None, 576)               0         \n",
      "                                                                 \n",
      " dense (Dense)               (None, 64)                36928     \n",
      "                                                                 \n",
      " dense_1 (Dense)             (None, 10)                650       \n",
      "                                                                 \n",
      "=================================================================\n",
      "Total params: 93,322\n",
      "Trainable params: 93,322\n",
      "Non-trainable params: 0\n",
      "_________________________________________________________________\n"
     ]
    }
   ],
   "source": [
    "from keras import layers\n",
    "from keras import models\n",
    "\n",
    "model = models.Sequential()\n",
    "model.add(layers.Conv2D(32,(3,3),activation=\"relu\", input_shape = (28,28,1)))\n",
    "model.add(layers.MaxPooling2D((2,2)))\n",
    "model.add(layers.Conv2D(64,(3,3),activation=\"relu\"))\n",
    "model.add(layers.MaxPooling2D((2,2)))\n",
    "model.add(layers.Conv2D(64,(3,3),activation=\"relu\"))\n",
    "#flatten nodes tree\n",
    "model.add(layers.Flatten())\n",
    "model.add(layers.Dense(64,activation='relu'))\n",
    "model.add(layers.Dense(10,activation='softmax'))\n",
    "model.summary()"
   ]
  },
  {
   "cell_type": "code",
   "execution_count": 13,
   "id": "edf13d31",
   "metadata": {
    "execution": {
     "iopub.execute_input": "2023-08-08T22:09:51.808415Z",
     "iopub.status.busy": "2023-08-08T22:09:51.807999Z",
     "iopub.status.idle": "2023-08-08T22:09:51.828201Z",
     "shell.execute_reply": "2023-08-08T22:09:51.827061Z"
    },
    "papermill": {
     "duration": 0.034785,
     "end_time": "2023-08-08T22:09:51.831292",
     "exception": false,
     "start_time": "2023-08-08T22:09:51.796507",
     "status": "completed"
    },
    "tags": []
   },
   "outputs": [],
   "source": [
    "model.compile(optimizer=\"rmsprop\",\n",
    "             loss = \"categorical_crossentropy\",\n",
    "             metrics = [\"accuracy\"])"
   ]
  },
  {
   "cell_type": "code",
   "execution_count": 14,
   "id": "d978f8c3",
   "metadata": {
    "execution": {
     "iopub.execute_input": "2023-08-08T22:09:51.855437Z",
     "iopub.status.busy": "2023-08-08T22:09:51.854154Z",
     "iopub.status.idle": "2023-08-08T22:13:43.928627Z",
     "shell.execute_reply": "2023-08-08T22:13:43.927675Z"
    },
    "papermill": {
     "duration": 232.089192,
     "end_time": "2023-08-08T22:13:43.930827",
     "exception": false,
     "start_time": "2023-08-08T22:09:51.841635",
     "status": "completed"
    },
    "tags": []
   },
   "outputs": [
    {
     "name": "stdout",
     "output_type": "stream",
     "text": [
      "Epoch 1/8\n",
      "938/938 [==============================] - 31s 31ms/step - loss: 0.1752 - accuracy: 0.9450\n",
      "Epoch 2/8\n",
      "938/938 [==============================] - 29s 31ms/step - loss: 0.0461 - accuracy: 0.9858\n",
      "Epoch 3/8\n",
      "938/938 [==============================] - 29s 31ms/step - loss: 0.0313 - accuracy: 0.9905\n",
      "Epoch 4/8\n",
      "938/938 [==============================] - 29s 31ms/step - loss: 0.0235 - accuracy: 0.9925\n",
      "Epoch 5/8\n",
      "938/938 [==============================] - 29s 31ms/step - loss: 0.0190 - accuracy: 0.9938\n",
      "Epoch 6/8\n",
      "938/938 [==============================] - 29s 30ms/step - loss: 0.0149 - accuracy: 0.9956\n",
      "Epoch 7/8\n",
      "938/938 [==============================] - 29s 30ms/step - loss: 0.0117 - accuracy: 0.9965\n",
      "Epoch 8/8\n",
      "938/938 [==============================] - 29s 31ms/step - loss: 0.0101 - accuracy: 0.9970\n"
     ]
    },
    {
     "data": {
      "text/plain": [
       "<keras.callbacks.History at 0x7b41847d2dd0>"
      ]
     },
     "execution_count": 14,
     "metadata": {},
     "output_type": "execute_result"
    }
   ],
   "source": [
    "model.fit(train_images, train_labels, epochs=8, batch_size=64)"
   ]
  },
  {
   "cell_type": "code",
   "execution_count": 15,
   "id": "a4e50ca8",
   "metadata": {
    "execution": {
     "iopub.execute_input": "2023-08-08T22:13:44.696848Z",
     "iopub.status.busy": "2023-08-08T22:13:44.696055Z",
     "iopub.status.idle": "2023-08-08T22:13:56.551844Z",
     "shell.execute_reply": "2023-08-08T22:13:56.550845Z"
    },
    "papermill": {
     "duration": 12.271457,
     "end_time": "2023-08-08T22:13:56.554159",
     "exception": false,
     "start_time": "2023-08-08T22:13:44.282702",
     "status": "completed"
    },
    "tags": []
   },
   "outputs": [
    {
     "name": "stdout",
     "output_type": "stream",
     "text": [
      "1875/1875 [==============================] - 12s 6ms/step - loss: 0.0067 - accuracy: 0.9977\n"
     ]
    },
    {
     "data": {
      "text/plain": [
       "0.9977333545684814"
      ]
     },
     "execution_count": 15,
     "metadata": {},
     "output_type": "execute_result"
    }
   ],
   "source": [
    "model.evaluate(train_images, train_labels)[1]"
   ]
  }
 ],
 "metadata": {
  "kernelspec": {
   "display_name": "Python 3",
   "language": "python",
   "name": "python3"
  },
  "language_info": {
   "codemirror_mode": {
    "name": "ipython",
    "version": 3
   },
   "file_extension": ".py",
   "mimetype": "text/x-python",
   "name": "python",
   "nbconvert_exporter": "python",
   "pygments_lexer": "ipython3",
   "version": "3.10.10"
  },
  "papermill": {
   "default_parameters": {},
   "duration": 386.378734,
   "end_time": "2023-08-08T22:13:59.833616",
   "environment_variables": {},
   "exception": null,
   "input_path": "__notebook__.ipynb",
   "output_path": "__notebook__.ipynb",
   "parameters": {},
   "start_time": "2023-08-08T22:07:33.454882",
   "version": "2.4.0"
  }
 },
 "nbformat": 4,
 "nbformat_minor": 5
}

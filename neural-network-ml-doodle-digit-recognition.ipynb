{
 "cells": [
  {
   "cell_type": "code",
   "execution_count": 1,
   "id": "85c9afa3",
   "metadata": {
    "_cell_guid": "b1076dfc-b9ad-4769-8c92-a6c4dae69d19",
    "_uuid": "8f2839f25d086af736a60e9eeb907d3b93b6e0e5",
    "execution": {
     "iopub.execute_input": "2023-08-08T22:34:35.562059Z",
     "iopub.status.busy": "2023-08-08T22:34:35.561531Z",
     "iopub.status.idle": "2023-08-08T22:34:41.770506Z",
     "shell.execute_reply": "2023-08-08T22:34:41.769348Z"
    },
    "papermill": {
     "duration": 6.220209,
     "end_time": "2023-08-08T22:34:41.773203",
     "exception": false,
     "start_time": "2023-08-08T22:34:35.552994",
     "status": "completed"
    },
    "tags": []
   },
   "outputs": [],
   "source": [
    "# This Python 3 environment comes with many helpful analytics libraries installed\n",
    "# It is defined by the kaggle/python Docker image: https://github.com/kaggle/docker-python\n",
    "# For example, here's several helpful packages to load\n",
    "import numpy as np # linear algebra\n",
    "import pandas as pd # data processing, CSV file I/O (e.g. pd.read_csv)\n",
    "from matplotlib import pyplot as plt\n",
    "# Input data files are available in the read-only \"../input/\" directory\n",
    "# For example, running this (by clicking run or pressing Shift+Enter) will list all files under the input directory\n",
    "\n",
    "import os\n",
    "data = pd.read_csv('/kaggle/input/mnist-in-csv/mnist_train.csv')\n",
    "\n",
    "# You can write up to 20GB to the current directory (/kaggle/working/) that gets preserved as output when you create a version using \"Save & Run All\" \n",
    "# You can also write temporary files to /kaggle/temp/, but they won't be saved outside of the current session"
   ]
  },
  {
   "cell_type": "code",
   "execution_count": 2,
   "id": "a500c467",
   "metadata": {
    "execution": {
     "iopub.execute_input": "2023-08-08T22:34:41.786537Z",
     "iopub.status.busy": "2023-08-08T22:34:41.786117Z",
     "iopub.status.idle": "2023-08-08T22:34:41.826685Z",
     "shell.execute_reply": "2023-08-08T22:34:41.825789Z"
    },
    "papermill": {
     "duration": 0.050561,
     "end_time": "2023-08-08T22:34:41.829623",
     "exception": false,
     "start_time": "2023-08-08T22:34:41.779062",
     "status": "completed"
    },
    "tags": []
   },
   "outputs": [
    {
     "data": {
      "text/html": [
       "<div>\n",
       "<style scoped>\n",
       "    .dataframe tbody tr th:only-of-type {\n",
       "        vertical-align: middle;\n",
       "    }\n",
       "\n",
       "    .dataframe tbody tr th {\n",
       "        vertical-align: top;\n",
       "    }\n",
       "\n",
       "    .dataframe thead th {\n",
       "        text-align: right;\n",
       "    }\n",
       "</style>\n",
       "<table border=\"1\" class=\"dataframe\">\n",
       "  <thead>\n",
       "    <tr style=\"text-align: right;\">\n",
       "      <th></th>\n",
       "      <th>label</th>\n",
       "      <th>1x1</th>\n",
       "      <th>1x2</th>\n",
       "      <th>1x3</th>\n",
       "      <th>1x4</th>\n",
       "      <th>1x5</th>\n",
       "      <th>1x6</th>\n",
       "      <th>1x7</th>\n",
       "      <th>1x8</th>\n",
       "      <th>1x9</th>\n",
       "      <th>...</th>\n",
       "      <th>28x19</th>\n",
       "      <th>28x20</th>\n",
       "      <th>28x21</th>\n",
       "      <th>28x22</th>\n",
       "      <th>28x23</th>\n",
       "      <th>28x24</th>\n",
       "      <th>28x25</th>\n",
       "      <th>28x26</th>\n",
       "      <th>28x27</th>\n",
       "      <th>28x28</th>\n",
       "    </tr>\n",
       "  </thead>\n",
       "  <tbody>\n",
       "    <tr>\n",
       "      <th>0</th>\n",
       "      <td>5</td>\n",
       "      <td>0</td>\n",
       "      <td>0</td>\n",
       "      <td>0</td>\n",
       "      <td>0</td>\n",
       "      <td>0</td>\n",
       "      <td>0</td>\n",
       "      <td>0</td>\n",
       "      <td>0</td>\n",
       "      <td>0</td>\n",
       "      <td>...</td>\n",
       "      <td>0</td>\n",
       "      <td>0</td>\n",
       "      <td>0</td>\n",
       "      <td>0</td>\n",
       "      <td>0</td>\n",
       "      <td>0</td>\n",
       "      <td>0</td>\n",
       "      <td>0</td>\n",
       "      <td>0</td>\n",
       "      <td>0</td>\n",
       "    </tr>\n",
       "    <tr>\n",
       "      <th>1</th>\n",
       "      <td>0</td>\n",
       "      <td>0</td>\n",
       "      <td>0</td>\n",
       "      <td>0</td>\n",
       "      <td>0</td>\n",
       "      <td>0</td>\n",
       "      <td>0</td>\n",
       "      <td>0</td>\n",
       "      <td>0</td>\n",
       "      <td>0</td>\n",
       "      <td>...</td>\n",
       "      <td>0</td>\n",
       "      <td>0</td>\n",
       "      <td>0</td>\n",
       "      <td>0</td>\n",
       "      <td>0</td>\n",
       "      <td>0</td>\n",
       "      <td>0</td>\n",
       "      <td>0</td>\n",
       "      <td>0</td>\n",
       "      <td>0</td>\n",
       "    </tr>\n",
       "    <tr>\n",
       "      <th>2</th>\n",
       "      <td>4</td>\n",
       "      <td>0</td>\n",
       "      <td>0</td>\n",
       "      <td>0</td>\n",
       "      <td>0</td>\n",
       "      <td>0</td>\n",
       "      <td>0</td>\n",
       "      <td>0</td>\n",
       "      <td>0</td>\n",
       "      <td>0</td>\n",
       "      <td>...</td>\n",
       "      <td>0</td>\n",
       "      <td>0</td>\n",
       "      <td>0</td>\n",
       "      <td>0</td>\n",
       "      <td>0</td>\n",
       "      <td>0</td>\n",
       "      <td>0</td>\n",
       "      <td>0</td>\n",
       "      <td>0</td>\n",
       "      <td>0</td>\n",
       "    </tr>\n",
       "    <tr>\n",
       "      <th>3</th>\n",
       "      <td>1</td>\n",
       "      <td>0</td>\n",
       "      <td>0</td>\n",
       "      <td>0</td>\n",
       "      <td>0</td>\n",
       "      <td>0</td>\n",
       "      <td>0</td>\n",
       "      <td>0</td>\n",
       "      <td>0</td>\n",
       "      <td>0</td>\n",
       "      <td>...</td>\n",
       "      <td>0</td>\n",
       "      <td>0</td>\n",
       "      <td>0</td>\n",
       "      <td>0</td>\n",
       "      <td>0</td>\n",
       "      <td>0</td>\n",
       "      <td>0</td>\n",
       "      <td>0</td>\n",
       "      <td>0</td>\n",
       "      <td>0</td>\n",
       "    </tr>\n",
       "    <tr>\n",
       "      <th>4</th>\n",
       "      <td>9</td>\n",
       "      <td>0</td>\n",
       "      <td>0</td>\n",
       "      <td>0</td>\n",
       "      <td>0</td>\n",
       "      <td>0</td>\n",
       "      <td>0</td>\n",
       "      <td>0</td>\n",
       "      <td>0</td>\n",
       "      <td>0</td>\n",
       "      <td>...</td>\n",
       "      <td>0</td>\n",
       "      <td>0</td>\n",
       "      <td>0</td>\n",
       "      <td>0</td>\n",
       "      <td>0</td>\n",
       "      <td>0</td>\n",
       "      <td>0</td>\n",
       "      <td>0</td>\n",
       "      <td>0</td>\n",
       "      <td>0</td>\n",
       "    </tr>\n",
       "    <tr>\n",
       "      <th>5</th>\n",
       "      <td>2</td>\n",
       "      <td>0</td>\n",
       "      <td>0</td>\n",
       "      <td>0</td>\n",
       "      <td>0</td>\n",
       "      <td>0</td>\n",
       "      <td>0</td>\n",
       "      <td>0</td>\n",
       "      <td>0</td>\n",
       "      <td>0</td>\n",
       "      <td>...</td>\n",
       "      <td>0</td>\n",
       "      <td>0</td>\n",
       "      <td>0</td>\n",
       "      <td>0</td>\n",
       "      <td>0</td>\n",
       "      <td>0</td>\n",
       "      <td>0</td>\n",
       "      <td>0</td>\n",
       "      <td>0</td>\n",
       "      <td>0</td>\n",
       "    </tr>\n",
       "    <tr>\n",
       "      <th>6</th>\n",
       "      <td>1</td>\n",
       "      <td>0</td>\n",
       "      <td>0</td>\n",
       "      <td>0</td>\n",
       "      <td>0</td>\n",
       "      <td>0</td>\n",
       "      <td>0</td>\n",
       "      <td>0</td>\n",
       "      <td>0</td>\n",
       "      <td>0</td>\n",
       "      <td>...</td>\n",
       "      <td>0</td>\n",
       "      <td>0</td>\n",
       "      <td>0</td>\n",
       "      <td>0</td>\n",
       "      <td>0</td>\n",
       "      <td>0</td>\n",
       "      <td>0</td>\n",
       "      <td>0</td>\n",
       "      <td>0</td>\n",
       "      <td>0</td>\n",
       "    </tr>\n",
       "    <tr>\n",
       "      <th>7</th>\n",
       "      <td>3</td>\n",
       "      <td>0</td>\n",
       "      <td>0</td>\n",
       "      <td>0</td>\n",
       "      <td>0</td>\n",
       "      <td>0</td>\n",
       "      <td>0</td>\n",
       "      <td>0</td>\n",
       "      <td>0</td>\n",
       "      <td>0</td>\n",
       "      <td>...</td>\n",
       "      <td>0</td>\n",
       "      <td>0</td>\n",
       "      <td>0</td>\n",
       "      <td>0</td>\n",
       "      <td>0</td>\n",
       "      <td>0</td>\n",
       "      <td>0</td>\n",
       "      <td>0</td>\n",
       "      <td>0</td>\n",
       "      <td>0</td>\n",
       "    </tr>\n",
       "    <tr>\n",
       "      <th>8</th>\n",
       "      <td>1</td>\n",
       "      <td>0</td>\n",
       "      <td>0</td>\n",
       "      <td>0</td>\n",
       "      <td>0</td>\n",
       "      <td>0</td>\n",
       "      <td>0</td>\n",
       "      <td>0</td>\n",
       "      <td>0</td>\n",
       "      <td>0</td>\n",
       "      <td>...</td>\n",
       "      <td>0</td>\n",
       "      <td>0</td>\n",
       "      <td>0</td>\n",
       "      <td>0</td>\n",
       "      <td>0</td>\n",
       "      <td>0</td>\n",
       "      <td>0</td>\n",
       "      <td>0</td>\n",
       "      <td>0</td>\n",
       "      <td>0</td>\n",
       "    </tr>\n",
       "    <tr>\n",
       "      <th>9</th>\n",
       "      <td>4</td>\n",
       "      <td>0</td>\n",
       "      <td>0</td>\n",
       "      <td>0</td>\n",
       "      <td>0</td>\n",
       "      <td>0</td>\n",
       "      <td>0</td>\n",
       "      <td>0</td>\n",
       "      <td>0</td>\n",
       "      <td>0</td>\n",
       "      <td>...</td>\n",
       "      <td>0</td>\n",
       "      <td>0</td>\n",
       "      <td>0</td>\n",
       "      <td>0</td>\n",
       "      <td>0</td>\n",
       "      <td>0</td>\n",
       "      <td>0</td>\n",
       "      <td>0</td>\n",
       "      <td>0</td>\n",
       "      <td>0</td>\n",
       "    </tr>\n",
       "  </tbody>\n",
       "</table>\n",
       "<p>10 rows × 785 columns</p>\n",
       "</div>"
      ],
      "text/plain": [
       "   label  1x1  1x2  1x3  1x4  1x5  1x6  1x7  1x8  1x9  ...  28x19  28x20  \\\n",
       "0      5    0    0    0    0    0    0    0    0    0  ...      0      0   \n",
       "1      0    0    0    0    0    0    0    0    0    0  ...      0      0   \n",
       "2      4    0    0    0    0    0    0    0    0    0  ...      0      0   \n",
       "3      1    0    0    0    0    0    0    0    0    0  ...      0      0   \n",
       "4      9    0    0    0    0    0    0    0    0    0  ...      0      0   \n",
       "5      2    0    0    0    0    0    0    0    0    0  ...      0      0   \n",
       "6      1    0    0    0    0    0    0    0    0    0  ...      0      0   \n",
       "7      3    0    0    0    0    0    0    0    0    0  ...      0      0   \n",
       "8      1    0    0    0    0    0    0    0    0    0  ...      0      0   \n",
       "9      4    0    0    0    0    0    0    0    0    0  ...      0      0   \n",
       "\n",
       "   28x21  28x22  28x23  28x24  28x25  28x26  28x27  28x28  \n",
       "0      0      0      0      0      0      0      0      0  \n",
       "1      0      0      0      0      0      0      0      0  \n",
       "2      0      0      0      0      0      0      0      0  \n",
       "3      0      0      0      0      0      0      0      0  \n",
       "4      0      0      0      0      0      0      0      0  \n",
       "5      0      0      0      0      0      0      0      0  \n",
       "6      0      0      0      0      0      0      0      0  \n",
       "7      0      0      0      0      0      0      0      0  \n",
       "8      0      0      0      0      0      0      0      0  \n",
       "9      0      0      0      0      0      0      0      0  \n",
       "\n",
       "[10 rows x 785 columns]"
      ]
     },
     "execution_count": 2,
     "metadata": {},
     "output_type": "execute_result"
    }
   ],
   "source": [
    "data.head(10)"
   ]
  },
  {
   "cell_type": "code",
   "execution_count": null,
   "id": "ae356527",
   "metadata": {
    "papermill": {
     "duration": 0.005922,
     "end_time": "2023-08-08T22:34:41.841706",
     "exception": false,
     "start_time": "2023-08-08T22:34:41.835784",
     "status": "completed"
    },
    "tags": []
   },
   "outputs": [],
   "source": []
  },
  {
   "cell_type": "code",
   "execution_count": 3,
   "id": "42e5557f",
   "metadata": {
    "execution": {
     "iopub.execute_input": "2023-08-08T22:34:41.856999Z",
     "iopub.status.busy": "2023-08-08T22:34:41.854778Z",
     "iopub.status.idle": "2023-08-08T22:34:42.870361Z",
     "shell.execute_reply": "2023-08-08T22:34:42.869048Z"
    },
    "papermill": {
     "duration": 1.025599,
     "end_time": "2023-08-08T22:34:42.873217",
     "exception": false,
     "start_time": "2023-08-08T22:34:41.847618",
     "status": "completed"
    },
    "tags": []
   },
   "outputs": [],
   "source": [
    "data = np.array(data)\n",
    "m, n = data.shape\n",
    "np.random.shuffle(data)\n",
    "\n",
    "data_dev = data[0:1000].T\n",
    "Y_dev = data_dev[0]\n",
    "X_dev = data_dev[1:n]\n",
    "X_dev = X_dev / 255.\n",
    "\n",
    "data_train = data[1000:m].T\n",
    "Y_train = data_train[0]\n",
    "X_train = data_train[1:n]\n"
   ]
  },
  {
   "cell_type": "code",
   "execution_count": 4,
   "id": "4ef640d7",
   "metadata": {
    "execution": {
     "iopub.execute_input": "2023-08-08T22:34:42.887774Z",
     "iopub.status.busy": "2023-08-08T22:34:42.887357Z",
     "iopub.status.idle": "2023-08-08T22:34:43.102624Z",
     "shell.execute_reply": "2023-08-08T22:34:43.101336Z"
    },
    "papermill": {
     "duration": 0.2257,
     "end_time": "2023-08-08T22:34:43.105463",
     "exception": false,
     "start_time": "2023-08-08T22:34:42.879763",
     "status": "completed"
    },
    "tags": []
   },
   "outputs": [],
   "source": [
    "X_train = X_train / 255."
   ]
  },
  {
   "cell_type": "code",
   "execution_count": 5,
   "id": "b967cb44",
   "metadata": {
    "execution": {
     "iopub.execute_input": "2023-08-08T22:34:43.122790Z",
     "iopub.status.busy": "2023-08-08T22:34:43.122394Z",
     "iopub.status.idle": "2023-08-08T22:34:43.137246Z",
     "shell.execute_reply": "2023-08-08T22:34:43.136003Z"
    },
    "papermill": {
     "duration": 0.027173,
     "end_time": "2023-08-08T22:34:43.140022",
     "exception": false,
     "start_time": "2023-08-08T22:34:43.112849",
     "status": "completed"
    },
    "tags": []
   },
   "outputs": [],
   "source": [
    "def init_param():\n",
    "    W1 = np.random.rand(10, 784) - 0.5\n",
    "    b1 = np.random.rand(10, 1) - 0.5\n",
    "    W2 = np.random.rand(10, 10) - 0.5\n",
    "    b2 = np.random.rand(10, 1) - 0.5\n",
    "    return W1, b1, W2, b2\n",
    "\n",
    "def ReLU(Z):\n",
    "    return np.maximum(0,Z)\n",
    "\n",
    "def softmax(Z):\n",
    "    A = np.exp(Z) / sum(np.exp(Z))\n",
    "    return A\n",
    "\n",
    "def forward_prop(W1, b1, W2, b2, X):\n",
    "    Z1 = W1.dot(X) + b1\n",
    "    A1 = ReLU(Z1)\n",
    "    Z2 = W2.dot(A1) + b2\n",
    "    A2 = softmax(Z2)\n",
    "    return Z1, A1, Z2, A2\n",
    "\n",
    "def one_hot(Y):\n",
    "    one_hot_Y = np.zeros((Y.size, Y.max() + 1))\n",
    "    one_hot_Y[np.arange(Y.size), Y] = 1\n",
    "    one_hot_Y = one_hot_Y.T\n",
    "    return one_hot_Y\n",
    "\n",
    "def deriv_ReLU(Z):\n",
    "    return Z > 0\n",
    "\n",
    "def back_prop(Z1, A1, Z2, A2, W2, X, Y):\n",
    "    m = Y.size\n",
    "    one_hot_Y = one_hot(Y)\n",
    "    dZ2 = A2 - one_hot_Y\n",
    "    dW2 = 1 / m * dZ2.dot(A1.T)\n",
    "    db2 = 1 / m * np.sum(dZ2)\n",
    "    dZ1 = W2.T.dot(dZ2) * deriv_ReLU(Z1)\n",
    "    dW1 = 1 / m * dZ1.dot(X.T)\n",
    "    db1 = 1 / m * np.sum(dZ1)\n",
    "    return dW1, db1, dW2, db2\n",
    "    \n",
    "def update_params(W1, b1, W2, b2, dW1, db1, dW2, db2, alpha):\n",
    "        W1 = W1 - alpha * dW1\n",
    "        b1 = b1 - alpha * db1\n",
    "        W2 = W2 - alpha * dW2\n",
    "        b2 = b2 - alpha * db2\n",
    "        return W1, b1, W2, b2\n",
    "       "
   ]
  },
  {
   "cell_type": "code",
   "execution_count": 6,
   "id": "e5e4f698",
   "metadata": {
    "execution": {
     "iopub.execute_input": "2023-08-08T22:34:43.156379Z",
     "iopub.status.busy": "2023-08-08T22:34:43.155236Z",
     "iopub.status.idle": "2023-08-08T22:34:43.165562Z",
     "shell.execute_reply": "2023-08-08T22:34:43.164540Z"
    },
    "papermill": {
     "duration": 0.022023,
     "end_time": "2023-08-08T22:34:43.168210",
     "exception": false,
     "start_time": "2023-08-08T22:34:43.146187",
     "status": "completed"
    },
    "tags": []
   },
   "outputs": [],
   "source": [
    "def get_predictions(A2):\n",
    "    return np.argmax(A2, 0)\n",
    "\n",
    "def get_accuracy(predictions, Y):\n",
    "    print(predictions, Y)\n",
    "    return np.sum(predictions == Y) / Y.size\n",
    "\n",
    "def get_inaccuracy(predictions, Y):\n",
    "    print(predictions, Y)\n",
    "    return np.sum(predictions != Y) / Y.size\n",
    "\n",
    "def gradient_decent(X, Y, iterations, alpha):\n",
    "    W1, b1, W2, b2, = init_param()\n",
    "    for i in range(iterations):\n",
    "        Z1, A1, Z2, A2 = forward_prop(W1, b1, W2, b2, X)\n",
    "        dW1, db1, dW2, db2 = back_prop(Z1, A1, Z2, A2, W2, X, Y)\n",
    "        W1, b1, W2, b2 = update_params(W1, b1, W2, b2, dW1, db1, dW2, db2, alpha)\n",
    "        if i % 50 == 0:\n",
    "            print(\"Iteration: \", i)\n",
    "            print(\"Accuracy: \", get_accuracy(get_predictions(A2), Y))\n",
    "            print(\"Inaccuracy: \", get_inaccuracy(get_predictions(A2), Y))\n",
    "    return W1, b1, W2, b2"
   ]
  },
  {
   "cell_type": "code",
   "execution_count": 7,
   "id": "ab08a92a",
   "metadata": {
    "execution": {
     "iopub.execute_input": "2023-08-08T22:34:43.182695Z",
     "iopub.status.busy": "2023-08-08T22:34:43.181998Z",
     "iopub.status.idle": "2023-08-08T22:35:47.633623Z",
     "shell.execute_reply": "2023-08-08T22:35:47.632003Z"
    },
    "papermill": {
     "duration": 64.463826,
     "end_time": "2023-08-08T22:35:47.638215",
     "exception": false,
     "start_time": "2023-08-08T22:34:43.174389",
     "status": "completed"
    },
    "tags": []
   },
   "outputs": [
    {
     "name": "stdout",
     "output_type": "stream",
     "text": [
      "Iteration:  0\n",
      "[4 6 5 ... 2 4 5] [0 6 7 ... 3 1 1]\n",
      "Accuracy:  0.08522033898305084\n",
      "[4 6 5 ... 2 4 5] [0 6 7 ... 3 1 1]\n",
      "Inaccuracy:  0.9147796610169492\n",
      "Iteration:  50\n",
      "[9 6 7 ... 3 1 1] [0 6 7 ... 3 1 1]\n",
      "Accuracy:  0.6210338983050847\n",
      "[9 6 7 ... 3 1 1] [0 6 7 ... 3 1 1]\n",
      "Inaccuracy:  0.37896610169491524\n",
      "Iteration:  100\n",
      "[0 6 7 ... 3 1 1] [0 6 7 ... 3 1 1]\n",
      "Accuracy:  0.7726440677966102\n",
      "[0 6 7 ... 3 1 1] [0 6 7 ... 3 1 1]\n",
      "Inaccuracy:  0.22735593220338984\n",
      "Iteration:  150\n",
      "[0 6 7 ... 3 1 1] [0 6 7 ... 3 1 1]\n",
      "Accuracy:  0.8337627118644068\n",
      "[0 6 7 ... 3 1 1] [0 6 7 ... 3 1 1]\n",
      "Inaccuracy:  0.16623728813559321\n",
      "Iteration:  200\n",
      "[0 6 7 ... 3 1 1] [0 6 7 ... 3 1 1]\n",
      "Accuracy:  0.8585423728813559\n",
      "[0 6 7 ... 3 1 1] [0 6 7 ... 3 1 1]\n",
      "Inaccuracy:  0.14145762711864407\n",
      "Iteration:  250\n",
      "[0 6 7 ... 3 1 1] [0 6 7 ... 3 1 1]\n",
      "Accuracy:  0.8710169491525424\n",
      "[0 6 7 ... 3 1 1] [0 6 7 ... 3 1 1]\n",
      "Inaccuracy:  0.12898305084745762\n"
     ]
    }
   ],
   "source": [
    "W1, b1, W2, b2 = gradient_decent(X_train, Y_train, 300, 0.4)\n",
    "#Todos: Accuracy still needs to reach 99, \n",
    "#add more complexetiy or a new node layer\n",
    "#alpha calculation using A2 sorted for predictions == false "
   ]
  },
  {
   "cell_type": "code",
   "execution_count": null,
   "id": "225c7b2f",
   "metadata": {
    "papermill": {
     "duration": 0.014224,
     "end_time": "2023-08-08T22:35:47.666641",
     "exception": false,
     "start_time": "2023-08-08T22:35:47.652417",
     "status": "completed"
    },
    "tags": []
   },
   "outputs": [],
   "source": []
  },
  {
   "cell_type": "code",
   "execution_count": 8,
   "id": "d148227d",
   "metadata": {
    "execution": {
     "iopub.execute_input": "2023-08-08T22:35:47.700845Z",
     "iopub.status.busy": "2023-08-08T22:35:47.700112Z",
     "iopub.status.idle": "2023-08-08T22:35:47.715411Z",
     "shell.execute_reply": "2023-08-08T22:35:47.713873Z"
    },
    "papermill": {
     "duration": 0.036565,
     "end_time": "2023-08-08T22:35:47.719511",
     "exception": false,
     "start_time": "2023-08-08T22:35:47.682946",
     "status": "completed"
    },
    "tags": []
   },
   "outputs": [],
   "source": [
    "def make_predictions(X, W1, b1, W2, b2):\n",
    "    _,_,_,A2 = forward_prop(W1, b1, W2, b2, X)\n",
    "    predictions = get_predictions(A2)\n",
    "    return predictions\n",
    "\n",
    "def test_predictions(index, W1, b1, W2, b2):\n",
    "    current_img = X_train[:,index,None]\n",
    "    prediction = make_predictions(X_train[:,index,None], W1, b1, W2, b2)\n",
    "    label = Y_train[index]\n",
    "    print('Success !' if  prediction == label else 'wrong !')\n",
    "    print(\"Prediction: \",prediction)\n",
    "    print(\"Label: \", label)\n",
    "    \n",
    "    current_img = current_img.reshape((28,28)) * 255\n",
    "    plt.gray()\n",
    "    plt.imshow(current_img, interpolation = \"nearest\")\n",
    "    plt.show()"
   ]
  },
  {
   "cell_type": "code",
   "execution_count": 9,
   "id": "b8f2bc3e",
   "metadata": {
    "execution": {
     "iopub.execute_input": "2023-08-08T22:35:47.750011Z",
     "iopub.status.busy": "2023-08-08T22:35:47.749289Z",
     "iopub.status.idle": "2023-08-08T22:35:48.027435Z",
     "shell.execute_reply": "2023-08-08T22:35:48.026121Z"
    },
    "papermill": {
     "duration": 0.296576,
     "end_time": "2023-08-08T22:35:48.030145",
     "exception": false,
     "start_time": "2023-08-08T22:35:47.733569",
     "status": "completed"
    },
    "tags": []
   },
   "outputs": [
    {
     "name": "stdout",
     "output_type": "stream",
     "text": [
      "wrong !\n",
      "Prediction:  [1]\n",
      "Label:  6\n"
     ]
    },
    {
     "data": {
      "image/png": "[encoded data removed]",
      "text/plain": [
       "<Figure size 640x480 with 1 Axes>"
      ]
     },
     "metadata": {},
     "output_type": "display_data"
    }
   ],
   "source": [
    "test_predictions(4, W1, b1, W2, b2)"
   ]
  },
  {
   "cell_type": "code",
   "execution_count": 10,
   "id": "8862bdd8",
   "metadata": {
    "execution": {
     "iopub.execute_input": "2023-08-08T22:35:48.046967Z",
     "iopub.status.busy": "2023-08-08T22:35:48.046532Z",
     "iopub.status.idle": "2023-08-08T22:35:57.599342Z",
     "shell.execute_reply": "2023-08-08T22:35:57.598241Z"
    },
    "papermill": {
     "duration": 9.564582,
     "end_time": "2023-08-08T22:35:57.602098",
     "exception": false,
     "start_time": "2023-08-08T22:35:48.037516",
     "status": "completed"
    },
    "tags": []
   },
   "outputs": [
    {
     "name": "stderr",
     "output_type": "stream",
     "text": [
      "/opt/conda/lib/python3.10/site-packages/tensorflow_io/python/ops/__init__.py:98: UserWarning: unable to load libtensorflow_io_plugins.so: unable to open file: libtensorflow_io_plugins.so, from paths: ['/opt/conda/lib/python3.10/site-packages/tensorflow_io/python/ops/libtensorflow_io_plugins.so']\n",
      "caused by: ['/opt/conda/lib/python3.10/site-packages/tensorflow_io/python/ops/libtensorflow_io_plugins.so: undefined symbol: _ZN3tsl6StatusC1EN10tensorflow5error4CodeESt17basic_string_viewIcSt11char_traitsIcEENS_14SourceLocationE']\n",
      "  warnings.warn(f\"unable to load libtensorflow_io_plugins.so: {e}\")\n",
      "/opt/conda/lib/python3.10/site-packages/tensorflow_io/python/ops/__init__.py:104: UserWarning: file system plugins are not loaded: unable to open file: libtensorflow_io.so, from paths: ['/opt/conda/lib/python3.10/site-packages/tensorflow_io/python/ops/libtensorflow_io.so']\n",
      "caused by: ['/opt/conda/lib/python3.10/site-packages/tensorflow_io/python/ops/libtensorflow_io.so: undefined symbol: _ZTVN10tensorflow13GcsFileSystemE']\n",
      "  warnings.warn(f\"file system plugins are not loaded: {e}\")\n"
     ]
    }
   ],
   "source": [
    "#Use keras to read and form nodes with layers and import model  \n",
    "from keras.datasets import mnist\n",
    "(train_images, train_labels),(test_images, test_labels)= mnist.load_data(\"/kaggle/input/mnistnpz/mnist.npz\")"
   ]
  },
  {
   "cell_type": "code",
   "execution_count": 11,
   "id": "45347404",
   "metadata": {
    "execution": {
     "iopub.execute_input": "2023-08-08T22:35:57.619064Z",
     "iopub.status.busy": "2023-08-08T22:35:57.618268Z",
     "iopub.status.idle": "2023-08-08T22:35:57.674803Z",
     "shell.execute_reply": "2023-08-08T22:35:57.673589Z"
    },
    "papermill": {
     "duration": 0.068053,
     "end_time": "2023-08-08T22:35:57.677627",
     "exception": false,
     "start_time": "2023-08-08T22:35:57.609574",
     "status": "completed"
    },
    "tags": []
   },
   "outputs": [],
   "source": [
    "train_images =  train_images.reshape((60000,28,28,1))\n",
    "train_images = train_images.astype(\"float32\")/255\n",
    "\n",
    "test_images = test_images.reshape((10000,28,28,1))\n",
    "test_images = test_images.astype(\"float32\")/255\n",
    "\n",
    "from keras.utils import to_categorical\n",
    "train_labels = to_categorical(train_labels)\n",
    "test_labels = to_categorical(test_labels)"
   ]
  },
  {
   "cell_type": "code",
   "execution_count": 12,
   "id": "b7551a71",
   "metadata": {
    "execution": {
     "iopub.execute_input": "2023-08-08T22:35:57.695097Z",
     "iopub.status.busy": "2023-08-08T22:35:57.694661Z",
     "iopub.status.idle": "2023-08-08T22:35:57.969792Z",
     "shell.execute_reply": "2023-08-08T22:35:57.968383Z"
    },
    "papermill": {
     "duration": 0.298028,
     "end_time": "2023-08-08T22:35:57.983377",
     "exception": false,
     "start_time": "2023-08-08T22:35:57.685349",
     "status": "completed"
    },
    "tags": []
   },
   "outputs": [
    {
     "name": "stdout",
     "output_type": "stream",
     "text": [
      "Model: \"sequential\"\n",
      "_________________________________________________________________\n",
      " Layer (type)                Output Shape              Param #   \n",
      "=================================================================\n",
      " conv2d (Conv2D)             (None, 26, 26, 32)        320       \n",
      "                                                                 \n",
      " max_pooling2d (MaxPooling2D  (None, 13, 13, 32)       0         \n",
      " )                                                               \n",
      "                                                                 \n",
      " conv2d_1 (Conv2D)           (None, 11, 11, 64)        18496     \n",
      "                                                                 \n",
      " max_pooling2d_1 (MaxPooling  (None, 5, 5, 64)         0         \n",
      " 2D)                                                             \n",
      "                                                                 \n",
      " conv2d_2 (Conv2D)           (None, 3, 3, 64)          36928     \n",
      "                                                                 \n",
      " flatten (Flatten)           (None, 576)               0         \n",
      "                                                                 \n",
      " dense (Dense)               (None, 64)                36928     \n",
      "                                                                 \n",
      " dense_1 (Dense)             (None, 10)                650       \n",
      "                                                                 \n",
      "=================================================================\n",
      "Total params: 93,322\n",
      "Trainable params: 93,322\n",
      "Non-trainable params: 0\n",
      "_________________________________________________________________\n"
     ]
    }
   ],
   "source": [
    "from keras import layers\n",
    "from keras import models\n",
    "\n",
    "model = models.Sequential()\n",
    "model.add(layers.Conv2D(32,(3,3),activation=\"relu\", input_shape = (28,28,1)))\n",
    "model.add(layers.MaxPooling2D((2,2)))\n",
    "model.add(layers.Conv2D(64,(3,3),activation=\"relu\"))\n",
    "model.add(layers.MaxPooling2D((2,2)))\n",
    "model.add(layers.Conv2D(64,(3,3),activation=\"relu\"))\n",
    "#flatten nodes tree\n",
    "model.add(layers.Flatten())\n",
    "model.add(layers.Dense(64,activation='relu'))\n",
    "model.add(layers.Dense(10,activation='softmax'))\n",
    "model.summary()"
   ]
  },
  {
   "cell_type": "code",
   "execution_count": 13,
   "id": "7bc68bef",
   "metadata": {
    "execution": {
     "iopub.execute_input": "2023-08-08T22:35:58.004927Z",
     "iopub.status.busy": "2023-08-08T22:35:58.004537Z",
     "iopub.status.idle": "2023-08-08T22:35:58.024742Z",
     "shell.execute_reply": "2023-08-08T22:35:58.023726Z"
    },
    "papermill": {
     "duration": 0.03444,
     "end_time": "2023-08-08T22:35:58.027422",
     "exception": false,
     "start_time": "2023-08-08T22:35:57.992982",
     "status": "completed"
    },
    "tags": []
   },
   "outputs": [],
   "source": [
    "model.compile(optimizer=\"rmsprop\",\n",
    "             loss = \"categorical_crossentropy\",\n",
    "             metrics = [\"accuracy\"])"
   ]
  },
  {
   "cell_type": "code",
   "execution_count": 14,
   "id": "5652e60c",
   "metadata": {
    "execution": {
     "iopub.execute_input": "2023-08-08T22:35:58.048855Z",
     "iopub.status.busy": "2023-08-08T22:35:58.048475Z",
     "iopub.status.idle": "2023-08-08T22:38:21.458586Z",
     "shell.execute_reply": "2023-08-08T22:38:21.457367Z"
    },
    "papermill": {
     "duration": 143.599691,
     "end_time": "2023-08-08T22:38:21.636944",
     "exception": false,
     "start_time": "2023-08-08T22:35:58.037253",
     "status": "completed"
    },
    "tags": []
   },
   "outputs": [
    {
     "name": "stdout",
     "output_type": "stream",
     "text": [
      "Epoch 1/4\n",
      "938/938 [==============================] - 31s 32ms/step - loss: 0.1785 - accuracy: 0.9435\n",
      "Epoch 2/4\n",
      "938/938 [==============================] - 30s 32ms/step - loss: 0.0462 - accuracy: 0.9854\n",
      "Epoch 3/4\n",
      "938/938 [==============================] - 29s 31ms/step - loss: 0.0327 - accuracy: 0.9903\n",
      "Epoch 4/4\n",
      "938/938 [==============================] - 29s 31ms/step - loss: 0.0241 - accuracy: 0.9921\n"
     ]
    },
    {
     "data": {
      "text/plain": [
       "<keras.callbacks.History at 0x792b68195c00>"
      ]
     },
     "execution_count": 14,
     "metadata": {},
     "output_type": "execute_result"
    }
   ],
   "source": [
    "model.fit(train_images, train_labels, epochs=4, batch_size=64)"
   ]
  },
  {
   "cell_type": "code",
   "execution_count": 15,
   "id": "29984bc1",
   "metadata": {
    "execution": {
     "iopub.execute_input": "2023-08-08T22:38:21.991423Z",
     "iopub.status.busy": "2023-08-08T22:38:21.990682Z",
     "iopub.status.idle": "2023-08-08T22:38:34.209518Z",
     "shell.execute_reply": "2023-08-08T22:38:34.208384Z"
    },
    "papermill": {
     "duration": 12.396894,
     "end_time": "2023-08-08T22:38:34.211911",
     "exception": false,
     "start_time": "2023-08-08T22:38:21.815017",
     "status": "completed"
    },
    "tags": []
   },
   "outputs": [
    {
     "name": "stdout",
     "output_type": "stream",
     "text": [
      "1875/1875 [==============================] - 12s 6ms/step - loss: 0.0268 - accuracy: 0.9914\n"
     ]
    },
    {
     "data": {
      "text/plain": [
       "0.9914166927337646"
      ]
     },
     "execution_count": 15,
     "metadata": {},
     "output_type": "execute_result"
    }
   ],
   "source": [
    "model.evaluate(train_images, train_labels)[1]"
   ]
  }
 ],
 "metadata": {
  "kernelspec": {
   "display_name": "Python 3",
   "language": "python",
   "name": "python3"
  },
  "language_info": {
   "codemirror_mode": {
    "name": "ipython",
    "version": 3
   },
   "file_extension": ".py",
   "mimetype": "text/x-python",
   "name": "python",
   "nbconvert_exporter": "python",
   "pygments_lexer": "ipython3",
   "version": "3.10.10"
  },
  "papermill": {
   "default_parameters": {},
   "duration": 256.481226,
   "end_time": "2023-08-08T22:38:37.814459",
   "environment_variables": {},
   "exception": null,
   "input_path": "__notebook__.ipynb",
   "output_path": "__notebook__.ipynb",
   "parameters": {},
   "start_time": "2023-08-08T22:34:21.333233",
   "version": "2.4.0"
  }
 },
 "nbformat": 4,
 "nbformat_minor": 5
}

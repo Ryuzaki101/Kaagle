{
 "cells": [
  {
   "cell_type": "code",
   "execution_count": 1,
   "id": "a6dff613",
   "metadata": {
    "_cell_guid": "b1076dfc-b9ad-4769-8c92-a6c4dae69d19",
    "_uuid": "8f2839f25d086af736a60e9eeb907d3b93b6e0e5",
    "execution": {
     "iopub.execute_input": "2023-08-08T22:02:14.077367Z",
     "iopub.status.busy": "2023-08-08T22:02:14.076941Z",
     "iopub.status.idle": "2023-08-08T22:02:34.371960Z",
     "shell.execute_reply": "2023-08-08T22:02:34.370203Z"
    },
    "papermill": {
     "duration": 20.302661,
     "end_time": "2023-08-08T22:02:34.375059",
     "exception": false,
     "start_time": "2023-08-08T22:02:14.072398",
     "status": "completed"
    },
    "tags": []
   },
   "outputs": [
    {
     "name": "stdout",
     "output_type": "stream",
     "text": [
      "Error: HTTPSConnectionPool(host='www.instructables.com', port=443): Max retries exceeded with url: / (Caused by NewConnectionError('<urllib3.connection.HTTPSConnection object at 0x786fbceacd90>: Failed to establish a new connection: [Errno -3] Temporary failure in name resolution'))\n"
     ]
    }
   ],
   "source": [
    "import requests\n",
    "from bs4 import BeautifulSoup\n",
    "\n",
    "def scrape_website(url):\n",
    "    try:\n",
    "        # Send a GET request to the URL\n",
    "        response = requests.get(url)\n",
    "\n",
    "        # Check if the request was successful\n",
    "        response.raise_for_status()\n",
    "\n",
    "        # Parse the HTML content using BeautifulSoup\n",
    "        soup = BeautifulSoup(response.content, 'html.parser')\n",
    "\n",
    "        # TODO: Write your scraping logic here\n",
    "        # For example, let's extract all the links on the page:\n",
    "        links = soup.find_all('a')\n",
    "        for link in links:\n",
    "            print(link.get('href'))\n",
    "\n",
    "    except requests.exceptions.RequestException as e:\n",
    "        print(f\"Error: {e}\")\n",
    "\n",
    "if __name__ == \"__main__\":\n",
    "    # Replace 'https://example.com' with the URL of the website you want to scrape\n",
    "    url_to_scrape = 'https://www.instructables.com/'\n",
    "    scrape_website(url_to_scrape)"
   ]
  }
 ],
 "metadata": {
  "kernelspec": {
   "display_name": "Python 3",
   "language": "python",
   "name": "python3"
  },
  "language_info": {
   "codemirror_mode": {
    "name": "ipython",
    "version": 3
   },
   "file_extension": ".py",
   "mimetype": "text/x-python",
   "name": "python",
   "nbconvert_exporter": "python",
   "pygments_lexer": "ipython3",
   "version": "3.10.10"
  },
  "papermill": {
   "default_parameters": {},
   "duration": 37.887181,
   "end_time": "2023-08-08T22:02:35.704343",
   "environment_variables": {},
   "exception": null,
   "input_path": "__notebook__.ipynb",
   "output_path": "__notebook__.ipynb",
   "parameters": {},
   "start_time": "2023-08-08T22:01:57.817162",
   "version": "2.4.0"
  }
 },
 "nbformat": 4,
 "nbformat_minor": 5
}
